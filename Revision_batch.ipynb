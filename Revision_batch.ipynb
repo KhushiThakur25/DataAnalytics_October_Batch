{
 "cells": [
  {
   "cell_type": "code",
   "execution_count": 3,
   "id": "a2516270-dd3d-4a91-a7e1-54468be947d8",
   "metadata": {},
   "outputs": [
    {
     "name": "stdin",
     "output_type": "stream",
     "text": [
      "Enter the number.. 12345\n"
     ]
    },
    {
     "name": "stdout",
     "output_type": "stream",
     "text": [
      "N IS: 1234\n",
      "N IS: 123\n",
      "N IS: 12\n",
      "N IS: 1\n",
      "N IS: 0\n",
      "Number is not palindrome..\n"
     ]
    }
   ],
   "source": [
    "#palindrome - n = 12321 , rev = 12321 \n",
    "\n",
    "n = int(input(\"Enter the number..\"))\n",
    "org = n\n",
    "rev = 0\n",
    "while n > 0:\n",
    "    rev = rev * 10 + n%10\n",
    "    n //= 10\n",
    "\n",
    "if rev == org:\n",
    "    print(\"Number is palindrome..\")\n",
    "else:\n",
    "    print(\"Number is not palindrome..\")"
   ]
  },
  {
   "cell_type": "code",
   "execution_count": 10,
   "id": "e91e95aa-fc25-4716-a230-4d0dfa3161c7",
   "metadata": {
    "tags": []
   },
   "outputs": [
    {
     "name": "stdin",
     "output_type": "stream",
     "text": [
      "Enter the number.. 370\n"
     ]
    },
    {
     "name": "stdout",
     "output_type": "stream",
     "text": [
      "Value of count is: 3\n",
      "value of arm is: 370\n",
      "Number is an armstrong..\n"
     ]
    }
   ],
   "source": [
    "n = int(input(\"Enter the number..\"))\n",
    "org = n\n",
    "count = 0\n",
    "arm = 0\n",
    "while n > 0:\n",
    "    count += 1\n",
    "    n //= 10\n",
    "print(\"Value of count is:\",count)\n",
    "\n",
    "n = org\n",
    "\n",
    "while n > 0:\n",
    "    arm += pow(n%10,count)\n",
    "    n //= 10\n",
    "print(\"value of arm is:\",arm)\n",
    "\n",
    "if arm == org:\n",
    "    print(\"Number is an armstrong..\")\n",
    "else:\n",
    "    print(\"Number is not an armstrong..\")"
   ]
  },
  {
   "cell_type": "code",
   "execution_count": 12,
   "id": "03b24f41-9d91-4695-bfea-5d8550daf8fc",
   "metadata": {
    "tags": []
   },
   "outputs": [
    {
     "name": "stdout",
     "output_type": "stream",
     "text": [
      "1\n",
      "2\n",
      "3\n",
      "4\n",
      "5\n",
      "6\n",
      "7\n",
      "8\n",
      "9\n",
      "153\n",
      "370\n",
      "371\n",
      "407\n"
     ]
    }
   ],
   "source": [
    "for n in range(1,1001):\n",
    "    org = n\n",
    "    count = 0\n",
    "    arm = 0\n",
    "    while org > 0:\n",
    "        count += 1\n",
    "        org //= 10\n",
    "    org = n\n",
    "    while org > 0:\n",
    "        arm += pow(org%10,count)\n",
    "        org //= 10\n",
    "    if n == arm:\n",
    "        print(n)\n",
    "    "
   ]
  },
  {
   "cell_type": "code",
   "execution_count": 14,
   "id": "5029c5a0-e82d-404d-bc8d-d522ed5a4862",
   "metadata": {
    "tags": []
   },
   "outputs": [
    {
     "name": "stdout",
     "output_type": "stream",
     "text": [
      "1\n",
      "2\n",
      "3\n",
      "5\n",
      "7\n",
      "11\n",
      "13\n",
      "17\n",
      "19\n",
      "23\n",
      "29\n",
      "31\n",
      "37\n",
      "41\n",
      "43\n",
      "47\n"
     ]
    }
   ],
   "source": [
    "for n in range(1,51):\n",
    "    \n",
    "    for i in range(2,n//2+1):\n",
    "        if n%i == 0:\n",
    "            break\n",
    "    else:\n",
    "        print(n)"
   ]
  },
  {
   "cell_type": "code",
   "execution_count": 2,
   "id": "c4e8ce18-09e8-44d4-8f2b-f460e55d0bdc",
   "metadata": {},
   "outputs": [
    {
     "name": "stdout",
     "output_type": "stream",
     "text": [
      "*  *  *  *  *  \n",
      "*  *     *  *  \n",
      "*     *     *  \n",
      "*  *     *  *  \n",
      "*  *  *  *  *  \n"
     ]
    }
   ],
   "source": [
    "for i in range(5):\n",
    "    for j in range(5):\n",
    "        if(i == 0 or i == 4 or j == i or j == 0 or j == 4-i or j == 4):\n",
    "            print('* ',end = \" \")\n",
    "        else:\n",
    "            print('  ',end = \" \")\n",
    "    print()"
   ]
  },
  {
   "cell_type": "code",
   "execution_count": 1,
   "id": "f195fb94-88af-468f-972a-df1ff1522c69",
   "metadata": {},
   "outputs": [],
   "source": [
    "li = [1,2,1,2,12,3,14,5,24]\n"
   ]
  },
  {
   "cell_type": "code",
   "execution_count": 2,
   "id": "e83511f5-210d-42f7-ac2c-b91fc946320e",
   "metadata": {
    "tags": []
   },
   "outputs": [],
   "source": [
    "li = set(li)"
   ]
  },
  {
   "cell_type": "code",
   "execution_count": 4,
   "id": "4ea786a7-85a6-47b7-8b15-a443ca810564",
   "metadata": {
    "tags": []
   },
   "outputs": [],
   "source": [
    "li = list(li)"
   ]
  },
  {
   "cell_type": "code",
   "execution_count": 5,
   "id": "a8d11179-e01f-45a8-940b-97cc56e0df90",
   "metadata": {
    "tags": []
   },
   "outputs": [
    {
     "data": {
      "text/plain": [
       "[1, 2, 3, 5, 12, 14, 24]"
      ]
     },
     "execution_count": 5,
     "metadata": {},
     "output_type": "execute_result"
    }
   ],
   "source": [
    "li"
   ]
  },
  {
   "cell_type": "code",
   "execution_count": 6,
   "id": "c4dcb7bf-b3c5-4bbc-8345-758f5ea906be",
   "metadata": {
    "tags": []
   },
   "outputs": [],
   "source": [
    "li = [[1,2],[3,4]]\n",
    "st = []\n",
    "for i in range(len(li)):\n",
    "    for j in range(len(li[0])):\n",
    "        st.append(li[i][j])\n",
    "        "
   ]
  },
  {
   "cell_type": "code",
   "execution_count": 7,
   "id": "27ddbc86-baf5-4e23-aa53-0002d5a3b66d",
   "metadata": {
    "tags": []
   },
   "outputs": [
    {
     "data": {
      "text/plain": [
       "[1, 2, 3, 4]"
      ]
     },
     "execution_count": 7,
     "metadata": {},
     "output_type": "execute_result"
    }
   ],
   "source": [
    "st"
   ]
  },
  {
   "cell_type": "code",
   "execution_count": 16,
   "id": "420c3eba-5910-4b92-86c5-df0a5db65412",
   "metadata": {},
   "outputs": [
    {
     "name": "stdout",
     "output_type": "stream",
     "text": [
      "1 2 3 4 5 6 7 \n",
      " 2 3 4 5 6 7 \n",
      "  3 4 5 6 7 \n",
      "   4 5 6 7 \n",
      "    5 6 7 \n",
      "     6 7 \n",
      "      7 \n",
      "     6 7 \n",
      "    5 6 7 \n",
      "   4 5 6 7 \n",
      "  3 4 5 6 7 \n",
      " 2 3 4 5 6 7 \n",
      "1 2 3 4 5 6 7 \n"
     ]
    }
   ],
   "source": [
    "for i in range(7):\n",
    "    for j in range(i):\n",
    "        print(\"\",end = \" \")\n",
    "    for k in range(i , 7):\n",
    "        print(k+1,end = \" \")\n",
    "    print()\n",
    "for i in range(6):\n",
    "    for j in range(5-i):\n",
    "        print(\"\",end = \" \")\n",
    "    for k in range(5-i,7):\n",
    "        print(k+1,end = \" \")\n",
    "    print()"
   ]
  },
  {
   "cell_type": "code",
   "execution_count": 34,
   "id": "46ac3347-923b-47f9-9891-166400b56fda",
   "metadata": {
    "tags": []
   },
   "outputs": [
    {
     "name": "stdout",
     "output_type": "stream",
     "text": [
      "          *           \n",
      "        *   *         \n",
      "      *       *       \n",
      "    *           *     \n",
      "  *               *   \n",
      "*                   * \n",
      "  *               *   \n",
      "    *           *     \n",
      "      *       *       \n",
      "        *   *         \n",
      "          *           \n"
     ]
    }
   ],
   "source": [
    "n = 11\n",
    "m = 11//2\n",
    "for i in range(m+1):\n",
    "    for j in range(m - i):\n",
    "        print(\" \",end = \" \")\n",
    "    for k in range(m-i,n):\n",
    "        if (k == (m - i) or k == (m + i)):\n",
    "            print(\"*\",end = \" \")\n",
    "        else:\n",
    "            print(\" \",end = \" \")\n",
    "    print()\n",
    "for i in range(1,m+1):\n",
    "    for j in range(i):\n",
    "       print(\" \",end = \" \") \n",
    "    for k in range(i,2*m+1):\n",
    "        if k == i or k == n-i-1:\n",
    "            print(\"*\",end = \" \")\n",
    "        else:\n",
    "            print(\" \",end = \" \")\n",
    "    print()"
   ]
  },
  {
   "cell_type": "code",
   "execution_count": null,
   "id": "8202a613-72f8-4aab-80dc-76d6d101f7ab",
   "metadata": {
    "tags": []
   },
   "outputs": [],
   "source": []
  },
  {
   "cell_type": "code",
   "execution_count": null,
   "id": "4cab7aac-5acc-4692-b540-f730815e9cb5",
   "metadata": {},
   "outputs": [],
   "source": []
  }
 ],
 "metadata": {
  "kernelspec": {
   "display_name": "Python 3 (ipykernel)",
   "language": "python",
   "name": "python3"
  },
  "language_info": {
   "codemirror_mode": {
    "name": "ipython",
    "version": 3
   },
   "file_extension": ".py",
   "mimetype": "text/x-python",
   "name": "python",
   "nbconvert_exporter": "python",
   "pygments_lexer": "ipython3",
   "version": "3.11.5"
  }
 },
 "nbformat": 4,
 "nbformat_minor": 5
}
