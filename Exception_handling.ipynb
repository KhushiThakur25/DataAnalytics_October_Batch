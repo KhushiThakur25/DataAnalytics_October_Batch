{
 "cells": [
  {
   "cell_type": "code",
   "execution_count": 1,
   "id": "08f6f119-4473-434d-b243-bac63b9f7a78",
   "metadata": {
    "tags": []
   },
   "outputs": [
    {
     "ename": "ZeroDivisionError",
     "evalue": "division by zero",
     "output_type": "error",
     "traceback": [
      "\u001b[1;31m---------------------------------------------------------------------------\u001b[0m",
      "\u001b[1;31mZeroDivisionError\u001b[0m                         Traceback (most recent call last)",
      "Cell \u001b[1;32mIn[1], line 1\u001b[0m\n\u001b[1;32m----> 1\u001b[0m \u001b[38;5;241m12\u001b[39m\u001b[38;5;241m/\u001b[39m\u001b[38;5;241m0\u001b[39m\n",
      "\u001b[1;31mZeroDivisionError\u001b[0m: division by zero"
     ]
    }
   ],
   "source": [
    "12/0"
   ]
  },
  {
   "cell_type": "code",
   "execution_count": 2,
   "id": "3729d035-12aa-410f-8fc8-8bebc7803ae5",
   "metadata": {
    "tags": []
   },
   "outputs": [
    {
     "name": "stdin",
     "output_type": "stream",
     "text": [
      "Enter the value g\n"
     ]
    },
    {
     "ename": "ValueError",
     "evalue": "invalid literal for int() with base 10: 'g'",
     "output_type": "error",
     "traceback": [
      "\u001b[1;31m---------------------------------------------------------------------------\u001b[0m",
      "\u001b[1;31mValueError\u001b[0m                                Traceback (most recent call last)",
      "Cell \u001b[1;32mIn[2], line 1\u001b[0m\n\u001b[1;32m----> 1\u001b[0m n \u001b[38;5;241m=\u001b[39m \u001b[38;5;28mint\u001b[39m(\u001b[38;5;28minput\u001b[39m(\u001b[38;5;124m\"\u001b[39m\u001b[38;5;124mEnter the value\u001b[39m\u001b[38;5;124m\"\u001b[39m))\n",
      "\u001b[1;31mValueError\u001b[0m: invalid literal for int() with base 10: 'g'"
     ]
    }
   ],
   "source": [
    "n = int(input(\"Enter the value\"))"
   ]
  },
  {
   "cell_type": "code",
   "execution_count": 3,
   "id": "8a5a7c50-3f92-4d36-9859-54c64006fbd4",
   "metadata": {
    "tags": []
   },
   "outputs": [
    {
     "ename": "NameError",
     "evalue": "name 's' is not defined",
     "output_type": "error",
     "traceback": [
      "\u001b[1;31m---------------------------------------------------------------------------\u001b[0m",
      "\u001b[1;31mNameError\u001b[0m                                 Traceback (most recent call last)",
      "Cell \u001b[1;32mIn[3], line 1\u001b[0m\n\u001b[1;32m----> 1\u001b[0m s\u001b[38;5;241m.\u001b[39mcoun()\n",
      "\u001b[1;31mNameError\u001b[0m: name 's' is not defined"
     ]
    }
   ],
   "source": [
    "s.coun()"
   ]
  },
  {
   "cell_type": "code",
   "execution_count": 4,
   "id": "8e185844-78ad-4bca-bc5a-59780542132d",
   "metadata": {
    "tags": []
   },
   "outputs": [
    {
     "ename": "SyntaxError",
     "evalue": "invalid syntax (4166612142.py, line 1)",
     "output_type": "error",
     "traceback": [
      "\u001b[1;36m  Cell \u001b[1;32mIn[4], line 1\u001b[1;36m\u001b[0m\n\u001b[1;33m    for in in range(5):\u001b[0m\n\u001b[1;37m        ^\u001b[0m\n\u001b[1;31mSyntaxError\u001b[0m\u001b[1;31m:\u001b[0m invalid syntax\n"
     ]
    }
   ],
   "source": [
    "for in in range(5):\n",
    "    print(i)"
   ]
  },
  {
   "cell_type": "code",
   "execution_count": 14,
   "id": "42e0d65f-4f97-471c-82fe-7d9822822bff",
   "metadata": {
    "tags": []
   },
   "outputs": [
    {
     "name": "stdin",
     "output_type": "stream",
     "text": [
      "Enter the value : 2\n",
      "Enter the value : 0\n"
     ]
    },
    {
     "name": "stdout",
     "output_type": "stream",
     "text": [
      "You can't divide an integer by zero\n",
      "I'm always executed\n"
     ]
    }
   ],
   "source": [
    "try:\n",
    "    val1 = int(input(\"Enter the value :\"))\n",
    "    val2 = int(input(\"Enter the value :\"))\n",
    "\n",
    "    add = val1 + val2\n",
    "\n",
    "    sub = val1 - val2\n",
    "    \n",
    "\n",
    "    mul = val1 * val2\n",
    "    \n",
    "\n",
    "    div = val1/val2\n",
    "    \n",
    "except ZeroDivisionError as msg:\n",
    "    print(\"You can't divide an integer by zero\")\n",
    "except Exception as msg:\n",
    "    print(msg)\n",
    "else:\n",
    "    print(\"addition is:\",add)\n",
    "    print(\"subtraction is:\",sub)\n",
    "    print(\"multiplication is:\",mul)\n",
    "    print(\"division is:\",div)\n",
    "finally:\n",
    "    print(\"I'm always executed\")"
   ]
  },
  {
   "cell_type": "code",
   "execution_count": 18,
   "id": "50f4acaa-86a8-41b1-9e91-316149092f36",
   "metadata": {
    "tags": []
   },
   "outputs": [
    {
     "name": "stdin",
     "output_type": "stream",
     "text": [
      "Enter your pin 1234\n"
     ]
    },
    {
     "name": "stdout",
     "output_type": "stream",
     "text": [
      "Login successfully..\n"
     ]
    },
    {
     "name": "stdin",
     "output_type": "stream",
     "text": [
      "Enter the amount.. 5000\n"
     ]
    },
    {
     "name": "stdout",
     "output_type": "stream",
     "text": [
      "Your remaining balance is : 5000\n"
     ]
    }
   ],
   "source": [
    "try:\n",
    "    def atm():\n",
    "        total = 10000\n",
    "        pin = input(\"Enter your pin\")\n",
    "        if pin == \"1234\":\n",
    "            print(\"Login successfully..\")\n",
    "        else:\n",
    "            raise ValueError(\"Login failed..\")\n",
    "        amount = int(input(\"Enter the amount..\"))\n",
    "        if amount > total:\n",
    "            raise ValueError(\"Insufficient balance\")\n",
    "        else:\n",
    "            total = total-amount\n",
    "            print(\"Your remaining balance is :\",total)\n",
    "except ValueError as msg:\n",
    "    print(msg)\n",
    "atm()"
   ]
  },
  {
   "cell_type": "code",
   "execution_count": null,
   "id": "b4da1703-ef9f-452e-a682-b23d5317a764",
   "metadata": {},
   "outputs": [],
   "source": []
  }
 ],
 "metadata": {
  "kernelspec": {
   "display_name": "Python 3 (ipykernel)",
   "language": "python",
   "name": "python3"
  },
  "language_info": {
   "codemirror_mode": {
    "name": "ipython",
    "version": 3
   },
   "file_extension": ".py",
   "mimetype": "text/x-python",
   "name": "python",
   "nbconvert_exporter": "python",
   "pygments_lexer": "ipython3",
   "version": "3.11.5"
  }
 },
 "nbformat": 4,
 "nbformat_minor": 5
}
