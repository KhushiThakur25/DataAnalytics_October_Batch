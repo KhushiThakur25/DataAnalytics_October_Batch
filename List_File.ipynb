{
 "cells": [
  {
   "cell_type": "code",
   "execution_count": 1,
   "id": "4c6245c8-d41e-4721-9bb4-ba1a5c0d3e0f",
   "metadata": {
    "tags": []
   },
   "outputs": [],
   "source": [
    "# List - it is data collection which stores the heterogenous type data in it.\n",
    "#     [] is used to represent the list.\n",
    "#     It is mutable in nature so that we can make changes in it."
   ]
  },
  {
   "cell_type": "code",
   "execution_count": 2,
   "id": "6e5505ee-80b2-4c84-b63e-b1ca69e8a2bc",
   "metadata": {
    "tags": []
   },
   "outputs": [
    {
     "data": {
      "text/plain": [
       "[]"
      ]
     },
     "execution_count": 2,
     "metadata": {},
     "output_type": "execute_result"
    }
   ],
   "source": [
    "Li = list()\n",
    "Li"
   ]
  },
  {
   "cell_type": "code",
   "execution_count": 3,
   "id": "94bd8641-a033-4866-b9d5-c0dbff542f26",
   "metadata": {
    "tags": []
   },
   "outputs": [],
   "source": [
    "Li.append(56)"
   ]
  },
  {
   "cell_type": "code",
   "execution_count": 4,
   "id": "ea1c9afa-6b5e-43fa-9eca-80d29a52438b",
   "metadata": {
    "tags": []
   },
   "outputs": [
    {
     "data": {
      "text/plain": [
       "[56]"
      ]
     },
     "execution_count": 4,
     "metadata": {},
     "output_type": "execute_result"
    }
   ],
   "source": [
    "Li"
   ]
  },
  {
   "cell_type": "code",
   "execution_count": 5,
   "id": "c6c17903-b920-4b46-84e6-94c557a2e387",
   "metadata": {
    "tags": []
   },
   "outputs": [
    {
     "name": "stdin",
     "output_type": "stream",
     "text": [
      "Enter the value.. 85\n",
      "Enter the value.. 63\n",
      "Enter the value.. 14\n",
      "Enter the value.. 21\n",
      "Enter the value.. 13\n"
     ]
    }
   ],
   "source": [
    "for i in  range(5):\n",
    "    n = int(input(\"Enter the value..\"))\n",
    "    Li.append(n)\n"
   ]
  },
  {
   "cell_type": "code",
   "execution_count": 6,
   "id": "898d1442-d586-4b16-b7ec-5d45c1d7aafd",
   "metadata": {
    "tags": []
   },
   "outputs": [
    {
     "data": {
      "text/plain": [
       "[56, 85, 63, 14, 21, 13]"
      ]
     },
     "execution_count": 6,
     "metadata": {},
     "output_type": "execute_result"
    }
   ],
   "source": [
    "Li"
   ]
  },
  {
   "cell_type": "code",
   "execution_count": 7,
   "id": "a58a30a4-e0e1-4cdf-95de-807ed026ce5e",
   "metadata": {
    "tags": []
   },
   "outputs": [],
   "source": [
    "li = [1,2,3,5,4,6,858,59,85]"
   ]
  },
  {
   "cell_type": "code",
   "execution_count": 10,
   "id": "78aaca2a-409d-4a40-accd-1607aa59793c",
   "metadata": {
    "tags": []
   },
   "outputs": [
    {
     "data": {
      "text/plain": [
       "[1, 2, 100, 5, 4, 6, 858, 59, 85]"
      ]
     },
     "execution_count": 10,
     "metadata": {},
     "output_type": "execute_result"
    }
   ],
   "source": [
    "li[2]=100\n",
    "li"
   ]
  },
  {
   "cell_type": "code",
   "execution_count": 11,
   "id": "792683be-c5da-40bc-a4c7-fad412a83bf5",
   "metadata": {
    "tags": []
   },
   "outputs": [],
   "source": [
    "li.append(-96)"
   ]
  },
  {
   "cell_type": "code",
   "execution_count": 12,
   "id": "4a13a9ae-f76f-4c45-86ee-6d1521057e5e",
   "metadata": {
    "tags": []
   },
   "outputs": [
    {
     "data": {
      "text/plain": [
       "[1, 2, 100, 5, 4, 6, 858, 59, 85, -96]"
      ]
     },
     "execution_count": 12,
     "metadata": {},
     "output_type": "execute_result"
    }
   ],
   "source": [
    "li"
   ]
  },
  {
   "cell_type": "code",
   "execution_count": 13,
   "id": "2013d69d-9d06-47ef-8b01-e60f172f04fb",
   "metadata": {
    "tags": []
   },
   "outputs": [],
   "source": [
    "li.append(\"ok\")"
   ]
  },
  {
   "cell_type": "code",
   "execution_count": 14,
   "id": "24c75026-7b13-4c80-9022-4d65fe1a0099",
   "metadata": {
    "tags": []
   },
   "outputs": [
    {
     "data": {
      "text/plain": [
       "[1, 2, 100, 5, 4, 6, 858, 59, 85, -96, 'ok']"
      ]
     },
     "execution_count": 14,
     "metadata": {},
     "output_type": "execute_result"
    }
   ],
   "source": [
    "li"
   ]
  },
  {
   "cell_type": "code",
   "execution_count": 15,
   "id": "db075804-7b9a-4551-8e13-16a1a2eb1fb5",
   "metadata": {
    "tags": []
   },
   "outputs": [],
   "source": [
    "li.insert(3,55)"
   ]
  },
  {
   "cell_type": "code",
   "execution_count": 16,
   "id": "dfa0105e-d320-4559-ae3e-4c08a923f5b5",
   "metadata": {
    "tags": []
   },
   "outputs": [
    {
     "data": {
      "text/plain": [
       "[1, 2, 100, 55, 5, 4, 6, 858, 59, 85, -96, 'ok']"
      ]
     },
     "execution_count": 16,
     "metadata": {},
     "output_type": "execute_result"
    }
   ],
   "source": [
    "li"
   ]
  },
  {
   "cell_type": "code",
   "execution_count": 17,
   "id": "a8820cd3-1798-45ef-bc9d-67269d86f1c6",
   "metadata": {
    "tags": []
   },
   "outputs": [],
   "source": [
    "n = [5,6,8,9,4]"
   ]
  },
  {
   "cell_type": "code",
   "execution_count": 18,
   "id": "13e1187d-ebbb-49cd-b830-d1ba6a7b1d38",
   "metadata": {
    "tags": []
   },
   "outputs": [],
   "source": [
    "li.append(n)"
   ]
  },
  {
   "cell_type": "code",
   "execution_count": 19,
   "id": "9ba27d1f-8713-4d7d-94a1-df2dd4948f72",
   "metadata": {
    "tags": []
   },
   "outputs": [
    {
     "data": {
      "text/plain": [
       "[1, 2, 100, 55, 5, 4, 6, 858, 59, 85, -96, 'ok', [5, 6, 8, 9, 4]]"
      ]
     },
     "execution_count": 19,
     "metadata": {},
     "output_type": "execute_result"
    }
   ],
   "source": [
    "li"
   ]
  },
  {
   "cell_type": "code",
   "execution_count": 21,
   "id": "3f8e7af3-25ed-496d-9163-cb4809b11ad1",
   "metadata": {
    "tags": []
   },
   "outputs": [],
   "source": [
    "m = li + n"
   ]
  },
  {
   "cell_type": "code",
   "execution_count": 22,
   "id": "8014f9ba-62c5-4e20-9940-2f7d8d6c6691",
   "metadata": {
    "tags": []
   },
   "outputs": [
    {
     "data": {
      "text/plain": [
       "[1,\n",
       " 2,\n",
       " 100,\n",
       " 55,\n",
       " 5,\n",
       " 4,\n",
       " 6,\n",
       " 858,\n",
       " 59,\n",
       " 85,\n",
       " -96,\n",
       " 'ok',\n",
       " [5, 6, 8, 9, 4],\n",
       " 5,\n",
       " 6,\n",
       " 8,\n",
       " 9,\n",
       " 4]"
      ]
     },
     "execution_count": 22,
     "metadata": {},
     "output_type": "execute_result"
    }
   ],
   "source": [
    "m"
   ]
  },
  {
   "cell_type": "code",
   "execution_count": 23,
   "id": "814f8a42-8a39-4da1-a0d3-cd6ba1196e44",
   "metadata": {
    "tags": []
   },
   "outputs": [],
   "source": [
    "li.extend(n)"
   ]
  },
  {
   "cell_type": "code",
   "execution_count": 24,
   "id": "f2ac256c-b8eb-4d33-94ad-32b5002290bf",
   "metadata": {
    "tags": []
   },
   "outputs": [
    {
     "data": {
      "text/plain": [
       "[1,\n",
       " 2,\n",
       " 100,\n",
       " 55,\n",
       " 5,\n",
       " 4,\n",
       " 6,\n",
       " 858,\n",
       " 59,\n",
       " 85,\n",
       " -96,\n",
       " 'ok',\n",
       " [5, 6, 8, 9, 4],\n",
       " 5,\n",
       " 6,\n",
       " 8,\n",
       " 9,\n",
       " 4]"
      ]
     },
     "execution_count": 24,
     "metadata": {},
     "output_type": "execute_result"
    }
   ],
   "source": [
    "li"
   ]
  },
  {
   "cell_type": "code",
   "execution_count": 25,
   "id": "2c08a019-0590-428f-94b7-fb7bb6fc6fe9",
   "metadata": {
    "tags": []
   },
   "outputs": [],
   "source": [
    "a = [1,2,34,56,7]\n",
    "b = [9,6,3,852,4]\n",
    "\n",
    "a.extend(b)"
   ]
  },
  {
   "cell_type": "code",
   "execution_count": 26,
   "id": "0ddb2098-c7f0-4081-9a90-c2959d1a330c",
   "metadata": {
    "tags": []
   },
   "outputs": [
    {
     "data": {
      "text/plain": [
       "[1, 2, 34, 56, 7, 9, 6, 3, 852, 4]"
      ]
     },
     "execution_count": 26,
     "metadata": {},
     "output_type": "execute_result"
    }
   ],
   "source": [
    "a"
   ]
  },
  {
   "cell_type": "code",
   "execution_count": 27,
   "id": "3bc005ef-04da-4bc9-93cf-05c28eb45594",
   "metadata": {
    "tags": []
   },
   "outputs": [
    {
     "name": "stdout",
     "output_type": "stream",
     "text": [
      "1\n",
      "2\n",
      "34\n",
      "56\n",
      "7\n",
      "9\n",
      "6\n",
      "3\n",
      "852\n",
      "4\n"
     ]
    }
   ],
   "source": [
    "for i in a:\n",
    "    print(i)"
   ]
  },
  {
   "cell_type": "code",
   "execution_count": 28,
   "id": "d2cea1a5-235f-47a9-bd21-699431437f63",
   "metadata": {
    "tags": []
   },
   "outputs": [
    {
     "data": {
      "text/plain": [
       "[1, 2, 34, 56, 7, 9, 6, 3, 852, 4]"
      ]
     },
     "execution_count": 28,
     "metadata": {},
     "output_type": "execute_result"
    }
   ],
   "source": [
    "a"
   ]
  },
  {
   "cell_type": "code",
   "execution_count": 29,
   "id": "a377d500-b644-40e9-9eb9-c2babb93ad7b",
   "metadata": {
    "tags": []
   },
   "outputs": [],
   "source": [
    "m = a"
   ]
  },
  {
   "cell_type": "code",
   "execution_count": 31,
   "id": "8021fdc3-e7cf-49e3-99c0-1c82a79dcc9a",
   "metadata": {
    "tags": []
   },
   "outputs": [],
   "source": [
    "m[0] = 100"
   ]
  },
  {
   "cell_type": "code",
   "execution_count": 32,
   "id": "dbb8930b-6fae-4176-9aee-8b2df1bf4cdd",
   "metadata": {
    "tags": []
   },
   "outputs": [
    {
     "data": {
      "text/plain": [
       "[100, 2, 34, 56, 7, 9, 6, 3, 852, 4]"
      ]
     },
     "execution_count": 32,
     "metadata": {},
     "output_type": "execute_result"
    }
   ],
   "source": [
    "m"
   ]
  },
  {
   "cell_type": "code",
   "execution_count": 33,
   "id": "9a90c788-77ec-4057-8303-04155469abf5",
   "metadata": {
    "tags": []
   },
   "outputs": [
    {
     "data": {
      "text/plain": [
       "[100, 2, 34, 56, 7, 9, 6, 3, 852, 4]"
      ]
     },
     "execution_count": 33,
     "metadata": {},
     "output_type": "execute_result"
    }
   ],
   "source": [
    "a"
   ]
  },
  {
   "cell_type": "code",
   "execution_count": 34,
   "id": "6cb19f40-e527-48f7-a261-aa926d179baf",
   "metadata": {
    "tags": []
   },
   "outputs": [],
   "source": [
    "k = m.copy()"
   ]
  },
  {
   "cell_type": "code",
   "execution_count": 35,
   "id": "7b957b95-0908-4c32-bd41-10d5316e9079",
   "metadata": {
    "tags": []
   },
   "outputs": [
    {
     "data": {
      "text/plain": [
       "[100, 2, 34, 56, 7, 9, 6, 3, 852, 4]"
      ]
     },
     "execution_count": 35,
     "metadata": {},
     "output_type": "execute_result"
    }
   ],
   "source": [
    "k"
   ]
  },
  {
   "cell_type": "code",
   "execution_count": 37,
   "id": "65ef2aa7-68bc-43eb-8206-eeafc9b18333",
   "metadata": {
    "tags": []
   },
   "outputs": [],
   "source": [
    "m[0]= 1000"
   ]
  },
  {
   "cell_type": "code",
   "execution_count": 38,
   "id": "56712911-61ed-4db8-ad31-e75e0ca747ef",
   "metadata": {
    "tags": []
   },
   "outputs": [
    {
     "data": {
      "text/plain": [
       "[1000, 2, 34, 56, 7, 9, 6, 3, 852, 4]"
      ]
     },
     "execution_count": 38,
     "metadata": {},
     "output_type": "execute_result"
    }
   ],
   "source": [
    "m"
   ]
  },
  {
   "cell_type": "code",
   "execution_count": 39,
   "id": "65de630b-4c29-4dc8-9da4-a0575a7b8651",
   "metadata": {
    "tags": []
   },
   "outputs": [
    {
     "data": {
      "text/plain": [
       "[100, 2, 34, 56, 7, 9, 6, 3, 852, 4]"
      ]
     },
     "execution_count": 39,
     "metadata": {},
     "output_type": "execute_result"
    }
   ],
   "source": [
    "k"
   ]
  },
  {
   "cell_type": "code",
   "execution_count": 40,
   "id": "f6128fd9-a0a6-4b24-8d36-124f50b19fef",
   "metadata": {
    "tags": []
   },
   "outputs": [
    {
     "data": {
      "text/plain": [
       "1"
      ]
     },
     "execution_count": 40,
     "metadata": {},
     "output_type": "execute_result"
    }
   ],
   "source": [
    "k.count(3)"
   ]
  },
  {
   "cell_type": "code",
   "execution_count": 41,
   "id": "092d17b0-7e4e-429d-96f6-ebed45811420",
   "metadata": {
    "tags": []
   },
   "outputs": [
    {
     "data": {
      "text/plain": [
       "18"
      ]
     },
     "execution_count": 41,
     "metadata": {},
     "output_type": "execute_result"
    }
   ],
   "source": [
    "len(li)"
   ]
  },
  {
   "cell_type": "code",
   "execution_count": 42,
   "id": "0aa9124f-26b5-4665-bc49-3722fb446262",
   "metadata": {
    "tags": []
   },
   "outputs": [
    {
     "data": {
      "text/plain": [
       "5"
      ]
     },
     "execution_count": 42,
     "metadata": {},
     "output_type": "execute_result"
    }
   ],
   "source": [
    "k.index(9)"
   ]
  },
  {
   "cell_type": "code",
   "execution_count": 43,
   "id": "bb5ae6ba-a4ba-4e24-a3f9-d20c21ce9028",
   "metadata": {
    "tags": []
   },
   "outputs": [
    {
     "data": {
      "text/plain": [
       "4"
      ]
     },
     "execution_count": 43,
     "metadata": {},
     "output_type": "execute_result"
    }
   ],
   "source": [
    "k.pop()"
   ]
  },
  {
   "cell_type": "code",
   "execution_count": 44,
   "id": "a54fb4d4-5714-4837-881f-623569cbbcc1",
   "metadata": {
    "tags": []
   },
   "outputs": [],
   "source": [
    "k.remove(2)"
   ]
  },
  {
   "cell_type": "code",
   "execution_count": 45,
   "id": "fa1a883b-9111-4efd-bbd9-a8fa58795d0f",
   "metadata": {
    "tags": []
   },
   "outputs": [
    {
     "data": {
      "text/plain": [
       "[100, 34, 56, 7, 9, 6, 3, 852]"
      ]
     },
     "execution_count": 45,
     "metadata": {},
     "output_type": "execute_result"
    }
   ],
   "source": [
    "k"
   ]
  },
  {
   "cell_type": "code",
   "execution_count": 46,
   "id": "b636d1cf-b3f4-4e6c-b562-6dbd7cda6cfb",
   "metadata": {
    "tags": []
   },
   "outputs": [],
   "source": [
    "k.clear()"
   ]
  },
  {
   "cell_type": "code",
   "execution_count": 47,
   "id": "16ae3159-8d78-4686-abef-5eef35e608af",
   "metadata": {
    "tags": []
   },
   "outputs": [
    {
     "data": {
      "text/plain": [
       "[]"
      ]
     },
     "execution_count": 47,
     "metadata": {},
     "output_type": "execute_result"
    }
   ],
   "source": [
    "k"
   ]
  },
  {
   "cell_type": "code",
   "execution_count": 48,
   "id": "6f6f07bc-824e-445b-980f-9506100ad049",
   "metadata": {
    "tags": []
   },
   "outputs": [
    {
     "data": {
      "text/plain": [
       "[1000, 2, 34, 56, 7, 9, 6, 3, 852, 4]"
      ]
     },
     "execution_count": 48,
     "metadata": {},
     "output_type": "execute_result"
    }
   ],
   "source": [
    "m"
   ]
  },
  {
   "cell_type": "code",
   "execution_count": 49,
   "id": "816ec811-28d7-420c-8e79-7463033003a7",
   "metadata": {
    "tags": []
   },
   "outputs": [],
   "source": [
    "m.sort()"
   ]
  },
  {
   "cell_type": "code",
   "execution_count": 50,
   "id": "de3cfc5f-1541-4e7f-a576-cd86ba4956c3",
   "metadata": {
    "tags": []
   },
   "outputs": [
    {
     "data": {
      "text/plain": [
       "[2, 3, 4, 6, 7, 9, 34, 56, 852, 1000]"
      ]
     },
     "execution_count": 50,
     "metadata": {},
     "output_type": "execute_result"
    }
   ],
   "source": [
    "m"
   ]
  },
  {
   "cell_type": "code",
   "execution_count": 51,
   "id": "69e1a1e1-1ca2-446b-9d12-4e5f566ea42b",
   "metadata": {
    "tags": []
   },
   "outputs": [],
   "source": [
    "m.reverse()"
   ]
  },
  {
   "cell_type": "code",
   "execution_count": 52,
   "id": "0a6c8b0b-7bac-4eef-b19c-792e7b526ced",
   "metadata": {
    "tags": []
   },
   "outputs": [
    {
     "data": {
      "text/plain": [
       "[1000, 852, 56, 34, 9, 7, 6, 4, 3, 2]"
      ]
     },
     "execution_count": 52,
     "metadata": {},
     "output_type": "execute_result"
    }
   ],
   "source": [
    "m"
   ]
  },
  {
   "cell_type": "code",
   "execution_count": 53,
   "id": "1c9d3612-6db1-4403-8a61-e94b4fbc6bea",
   "metadata": {
    "tags": []
   },
   "outputs": [
    {
     "data": {
      "text/plain": [
       "1973"
      ]
     },
     "execution_count": 53,
     "metadata": {},
     "output_type": "execute_result"
    }
   ],
   "source": [
    "sum(m)"
   ]
  },
  {
   "cell_type": "code",
   "execution_count": 54,
   "id": "d0f0e954-5584-4427-8555-4fee7aea597f",
   "metadata": {
    "tags": []
   },
   "outputs": [
    {
     "data": {
      "text/plain": [
       "1000"
      ]
     },
     "execution_count": 54,
     "metadata": {},
     "output_type": "execute_result"
    }
   ],
   "source": [
    "max(m)"
   ]
  },
  {
   "cell_type": "code",
   "execution_count": 55,
   "id": "18252089-b3f5-43a3-afa1-09f9c0e58d7d",
   "metadata": {
    "tags": []
   },
   "outputs": [
    {
     "data": {
      "text/plain": [
       "2"
      ]
     },
     "execution_count": 55,
     "metadata": {},
     "output_type": "execute_result"
    }
   ],
   "source": [
    "min(m)"
   ]
  },
  {
   "cell_type": "code",
   "execution_count": 62,
   "id": "9368d122-b788-474a-8194-e434beed3d9f",
   "metadata": {
    "tags": []
   },
   "outputs": [
    {
     "name": "stdout",
     "output_type": "stream",
     "text": [
      "Your maximum value is : 512\n",
      "Your second maximum value is : 485\n"
     ]
    }
   ],
   "source": [
    "li = [56,25,41,512,485,13,66]\n",
    "\n",
    "maxs = 0\n",
    "secMax = 0\n",
    "for i in range(len(li)):\n",
    "    if li[i] > maxs:\n",
    "        secMax = maxs\n",
    "        maxs = li[i]\n",
    "    if li[i] < maxs and li[i] > secMax:\n",
    "        secMax = li[i]\n",
    "        \n",
    "print(f\"Your maximum value is : {maxs}\")\n",
    "print(f\"Your second maximum value is : {secMax}\")"
   ]
  },
  {
   "cell_type": "code",
   "execution_count": null,
   "id": "ea9b2c0d-5b8d-40ac-b352-d05a7666f9d2",
   "metadata": {},
   "outputs": [],
   "source": []
  }
 ],
 "metadata": {
  "kernelspec": {
   "display_name": "Python 3 (ipykernel)",
   "language": "python",
   "name": "python3"
  },
  "language_info": {
   "codemirror_mode": {
    "name": "ipython",
    "version": 3
   },
   "file_extension": ".py",
   "mimetype": "text/x-python",
   "name": "python",
   "nbconvert_exporter": "python",
   "pygments_lexer": "ipython3",
   "version": "3.11.5"
  }
 },
 "nbformat": 4,
 "nbformat_minor": 5
}
