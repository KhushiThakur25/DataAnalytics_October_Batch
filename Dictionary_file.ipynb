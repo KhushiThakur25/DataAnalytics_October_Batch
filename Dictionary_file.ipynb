{
 "cells": [
  {
   "cell_type": "code",
   "execution_count": 1,
   "id": "94576160-3add-4777-a71d-7246c29e1171",
   "metadata": {
    "tags": []
   },
   "outputs": [],
   "source": [
    "dic = {\"name\":\"Khushi\",\"department\":\"IT\",\"designation\":\"Software Trainer\",\"emp_id\":1002}"
   ]
  },
  {
   "cell_type": "code",
   "execution_count": 2,
   "id": "9ee0517d-8d6f-4147-ab32-bfb4507f3fca",
   "metadata": {
    "tags": []
   },
   "outputs": [
    {
     "data": {
      "text/plain": [
       "dict_keys(['name', 'department', 'designation', 'emp_id'])"
      ]
     },
     "execution_count": 2,
     "metadata": {},
     "output_type": "execute_result"
    }
   ],
   "source": [
    "dic.keys()"
   ]
  },
  {
   "cell_type": "code",
   "execution_count": 3,
   "id": "b09ea95c-b4ae-49c7-ba9c-09d0a967027b",
   "metadata": {
    "tags": []
   },
   "outputs": [
    {
     "data": {
      "text/plain": [
       "dict_values(['Khushi', 'IT', 'Software Trainer', 1002])"
      ]
     },
     "execution_count": 3,
     "metadata": {},
     "output_type": "execute_result"
    }
   ],
   "source": [
    "dic.values()"
   ]
  },
  {
   "cell_type": "code",
   "execution_count": 4,
   "id": "ebfa759c-e6af-4af6-90b8-39ff03b5bd25",
   "metadata": {
    "tags": []
   },
   "outputs": [
    {
     "data": {
      "text/plain": [
       "dict_items([('name', 'Khushi'), ('department', 'IT'), ('designation', 'Software Trainer'), ('emp_id', 1002)])"
      ]
     },
     "execution_count": 4,
     "metadata": {},
     "output_type": "execute_result"
    }
   ],
   "source": [
    "dic.items()"
   ]
  },
  {
   "cell_type": "code",
   "execution_count": 5,
   "id": "80bf2951-3cb0-4bac-b277-189c4702e02f",
   "metadata": {
    "tags": []
   },
   "outputs": [],
   "source": [
    "dic[\"gender\"] = \"female\""
   ]
  },
  {
   "cell_type": "code",
   "execution_count": 6,
   "id": "833349d1-e549-4f4e-8290-c4756b12d709",
   "metadata": {
    "tags": []
   },
   "outputs": [
    {
     "data": {
      "text/plain": [
       "{'name': 'Khushi',\n",
       " 'department': 'IT',\n",
       " 'designation': 'Software Trainer',\n",
       " 'emp_id': 1002,\n",
       " 'gender': 'female'}"
      ]
     },
     "execution_count": 6,
     "metadata": {},
     "output_type": "execute_result"
    }
   ],
   "source": [
    "dic"
   ]
  },
  {
   "cell_type": "code",
   "execution_count": 7,
   "id": "30cfca88-5430-4df1-a7fc-cd86ccf2c45f",
   "metadata": {
    "tags": []
   },
   "outputs": [],
   "source": [
    "dic1 = {\"10th Marks\": 89,\"12th Marks\":87,\"Grd. Marks\": 80}"
   ]
  },
  {
   "cell_type": "code",
   "execution_count": 8,
   "id": "7c815156-4dc6-4d55-94fb-774ba39337ef",
   "metadata": {
    "tags": []
   },
   "outputs": [],
   "source": [
    "dic.update(dic1)"
   ]
  },
  {
   "cell_type": "code",
   "execution_count": 9,
   "id": "07a6b49e-c8ca-42d9-a638-ffbfbeb72321",
   "metadata": {
    "tags": []
   },
   "outputs": [
    {
     "data": {
      "text/plain": [
       "{'name': 'Khushi',\n",
       " 'department': 'IT',\n",
       " 'designation': 'Software Trainer',\n",
       " 'emp_id': 1002,\n",
       " 'gender': 'female',\n",
       " '10th Marks': 89,\n",
       " '12th Marks': 87,\n",
       " 'Grd. Marks': 80}"
      ]
     },
     "execution_count": 9,
     "metadata": {},
     "output_type": "execute_result"
    }
   ],
   "source": [
    "dic"
   ]
  },
  {
   "cell_type": "code",
   "execution_count": 10,
   "id": "2481f276-5508-448e-9820-775913bc94f7",
   "metadata": {
    "tags": []
   },
   "outputs": [
    {
     "data": {
      "text/plain": [
       "1002"
      ]
     },
     "execution_count": 10,
     "metadata": {},
     "output_type": "execute_result"
    }
   ],
   "source": [
    "dic[\"emp_id\"]"
   ]
  },
  {
   "cell_type": "code",
   "execution_count": 11,
   "id": "453221fe-3046-47c8-aeca-9e71e9c3de83",
   "metadata": {
    "tags": []
   },
   "outputs": [
    {
     "data": {
      "text/plain": [
       "89"
      ]
     },
     "execution_count": 11,
     "metadata": {},
     "output_type": "execute_result"
    }
   ],
   "source": [
    "dic1.pop(\"10th Marks\")"
   ]
  },
  {
   "cell_type": "code",
   "execution_count": 12,
   "id": "c72903fe-4dd2-4e29-9f28-32a9a95c8e05",
   "metadata": {
    "tags": []
   },
   "outputs": [
    {
     "data": {
      "text/plain": [
       "{'12th Marks': 87, 'Grd. Marks': 80}"
      ]
     },
     "execution_count": 12,
     "metadata": {},
     "output_type": "execute_result"
    }
   ],
   "source": [
    "dic1"
   ]
  },
  {
   "cell_type": "code",
   "execution_count": 13,
   "id": "bdee0274-45f1-4601-af23-48e465a379bc",
   "metadata": {
    "tags": []
   },
   "outputs": [
    {
     "data": {
      "text/plain": [
       "('Grd. Marks', 80)"
      ]
     },
     "execution_count": 13,
     "metadata": {},
     "output_type": "execute_result"
    }
   ],
   "source": [
    "dic1.popitem()"
   ]
  },
  {
   "cell_type": "code",
   "execution_count": 14,
   "id": "c8194211-a664-45a4-a1ac-345049c1e8d8",
   "metadata": {
    "tags": []
   },
   "outputs": [
    {
     "data": {
      "text/plain": [
       "{'12th Marks': 87}"
      ]
     },
     "execution_count": 14,
     "metadata": {},
     "output_type": "execute_result"
    }
   ],
   "source": [
    "dic1"
   ]
  },
  {
   "cell_type": "code",
   "execution_count": 15,
   "id": "21c92332-a803-4987-9c15-7cfeedc9743f",
   "metadata": {
    "tags": []
   },
   "outputs": [],
   "source": [
    "dic1.clear()"
   ]
  },
  {
   "cell_type": "code",
   "execution_count": 16,
   "id": "7d720bff-792d-47f4-9a8f-e545d83fe4ff",
   "metadata": {
    "tags": []
   },
   "outputs": [
    {
     "data": {
      "text/plain": [
       "{}"
      ]
     },
     "execution_count": 16,
     "metadata": {},
     "output_type": "execute_result"
    }
   ],
   "source": [
    "dic1"
   ]
  },
  {
   "cell_type": "code",
   "execution_count": 17,
   "id": "f2a52023-af84-40f6-9ad9-f6ae144af703",
   "metadata": {
    "tags": []
   },
   "outputs": [
    {
     "data": {
      "text/plain": [
       "'Khushi'"
      ]
     },
     "execution_count": 17,
     "metadata": {},
     "output_type": "execute_result"
    }
   ],
   "source": [
    "dic.get(\"name\")"
   ]
  },
  {
   "cell_type": "code",
   "execution_count": 18,
   "id": "2933f318-31d3-429c-9d67-fe098c4aa512",
   "metadata": {
    "tags": []
   },
   "outputs": [],
   "source": [
    "dic1 = {\"marks\":{\"maths\":74,\"hindi\":65,\"eng\":84},\"sem Score\":[65,81]}"
   ]
  },
  {
   "cell_type": "code",
   "execution_count": 19,
   "id": "5807671c-6410-4ccc-abc9-074587baf336",
   "metadata": {
    "tags": []
   },
   "outputs": [
    {
     "data": {
      "text/plain": [
       "65"
      ]
     },
     "execution_count": 19,
     "metadata": {},
     "output_type": "execute_result"
    }
   ],
   "source": [
    "dic1[\"marks\"][\"hindi\"]"
   ]
  },
  {
   "cell_type": "code",
   "execution_count": 21,
   "id": "28652a08-e8ed-41b3-b1ff-ccab1597b91e",
   "metadata": {
    "tags": []
   },
   "outputs": [
    {
     "data": {
      "text/plain": [
       "81"
      ]
     },
     "execution_count": 21,
     "metadata": {},
     "output_type": "execute_result"
    }
   ],
   "source": [
    "dic1[\"sem Score\"][1]"
   ]
  },
  {
   "cell_type": "code",
   "execution_count": null,
   "id": "b2537825-fc57-488c-8f94-b55e67ace723",
   "metadata": {},
   "outputs": [],
   "source": []
  }
 ],
 "metadata": {
  "kernelspec": {
   "display_name": "Python 3 (ipykernel)",
   "language": "python",
   "name": "python3"
  },
  "language_info": {
   "codemirror_mode": {
    "name": "ipython",
    "version": 3
   },
   "file_extension": ".py",
   "mimetype": "text/x-python",
   "name": "python",
   "nbconvert_exporter": "python",
   "pygments_lexer": "ipython3",
   "version": "3.11.5"
  }
 },
 "nbformat": 4,
 "nbformat_minor": 5
}
