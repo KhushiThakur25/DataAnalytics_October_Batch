{
 "cells": [
  {
   "cell_type": "code",
   "execution_count": 1,
   "id": "b5265cd4-6633-46c1-b649-5359e79b32ae",
   "metadata": {
    "tags": []
   },
   "outputs": [],
   "source": [
    "#String - a collections of characters in a particular sequence or in a manner."
   ]
  },
  {
   "cell_type": "code",
   "execution_count": null,
   "id": "0ee2b974-8ce4-4c21-87ae-4493a5039aa5",
   "metadata": {
    "tags": []
   },
   "outputs": [],
   "source": [
    "# 1. immutable \n",
    "# 2. \"\" / ''\n",
    "# 3. it creates internal array character array\n",
    "# and we can access each character using thier indeces."
   ]
  },
  {
   "cell_type": "code",
   "execution_count": 4,
   "id": "e9708192-74b9-420d-93a8-e67ca6cd8bba",
   "metadata": {
    "tags": []
   },
   "outputs": [
    {
     "data": {
      "text/plain": [
       "'Hello World'"
      ]
     },
     "execution_count": 4,
     "metadata": {},
     "output_type": "execute_result"
    }
   ],
   "source": [
    "\"Hello\" + \" \"+\"World\""
   ]
  },
  {
   "cell_type": "code",
   "execution_count": 5,
   "id": "844e0f2e-b894-42cc-b57a-2fce9330e5f4",
   "metadata": {
    "tags": []
   },
   "outputs": [],
   "source": [
    "st = \"Hello world\""
   ]
  },
  {
   "cell_type": "code",
   "execution_count": 8,
   "id": "02b6b73e-5b92-4c4b-a72a-1871c9a5aa42",
   "metadata": {
    "tags": []
   },
   "outputs": [
    {
     "data": {
      "text/plain": [
       "'l'"
      ]
     },
     "execution_count": 8,
     "metadata": {},
     "output_type": "execute_result"
    }
   ],
   "source": [
    "st[9]"
   ]
  },
  {
   "cell_type": "code",
   "execution_count": 9,
   "id": "f8b87088-6aa5-47a9-b53a-2ad957003923",
   "metadata": {
    "tags": []
   },
   "outputs": [
    {
     "ename": "TypeError",
     "evalue": "'str' object does not support item assignment",
     "output_type": "error",
     "traceback": [
      "\u001b[1;31m---------------------------------------------------------------------------\u001b[0m",
      "\u001b[1;31mTypeError\u001b[0m                                 Traceback (most recent call last)",
      "Cell \u001b[1;32mIn[9], line 1\u001b[0m\n\u001b[1;32m----> 1\u001b[0m st[\u001b[38;5;241m9\u001b[39m] \u001b[38;5;241m=\u001b[39m \u001b[38;5;124m'\u001b[39m\u001b[38;5;124mj\u001b[39m\u001b[38;5;124m'\u001b[39m\n",
      "\u001b[1;31mTypeError\u001b[0m: 'str' object does not support item assignment"
     ]
    }
   ],
   "source": [
    "st[9] = 'j'"
   ]
  },
  {
   "cell_type": "code",
   "execution_count": 10,
   "id": "d28e600d-64e3-421d-a787-49209a923ef1",
   "metadata": {
    "tags": []
   },
   "outputs": [
    {
     "data": {
      "text/plain": [
       "'hello world'"
      ]
     },
     "execution_count": 10,
     "metadata": {},
     "output_type": "execute_result"
    }
   ],
   "source": [
    "st.lower()"
   ]
  },
  {
   "cell_type": "code",
   "execution_count": 11,
   "id": "a2736d97-8758-400d-82a6-9b106f0d541d",
   "metadata": {
    "tags": []
   },
   "outputs": [
    {
     "data": {
      "text/plain": [
       "'HELLO WORLD'"
      ]
     },
     "execution_count": 11,
     "metadata": {},
     "output_type": "execute_result"
    }
   ],
   "source": [
    "st.upper()"
   ]
  },
  {
   "cell_type": "code",
   "execution_count": 12,
   "id": "1ea423c9-4cdb-4d56-99ec-0d5ac4749e73",
   "metadata": {
    "tags": []
   },
   "outputs": [
    {
     "data": {
      "text/plain": [
       "'Hello World'"
      ]
     },
     "execution_count": 12,
     "metadata": {},
     "output_type": "execute_result"
    }
   ],
   "source": [
    "st.title()"
   ]
  },
  {
   "cell_type": "code",
   "execution_count": 13,
   "id": "ce03ed65-b7dc-494f-b073-c9653edafdd5",
   "metadata": {
    "tags": []
   },
   "outputs": [
    {
     "data": {
      "text/plain": [
       "'Hello world'"
      ]
     },
     "execution_count": 13,
     "metadata": {},
     "output_type": "execute_result"
    }
   ],
   "source": [
    "st.capitalize()"
   ]
  },
  {
   "cell_type": "code",
   "execution_count": 14,
   "id": "936a675f-3632-4cfe-9a92-722ff94cd1b6",
   "metadata": {
    "tags": []
   },
   "outputs": [
    {
     "data": {
      "text/plain": [
       "'hELLO WORLD'"
      ]
     },
     "execution_count": 14,
     "metadata": {},
     "output_type": "execute_result"
    }
   ],
   "source": [
    "st.swapcase()"
   ]
  },
  {
   "cell_type": "code",
   "execution_count": 18,
   "id": "3f7d7f91-ef94-451c-88fc-d0927d017dff",
   "metadata": {
    "tags": []
   },
   "outputs": [
    {
     "data": {
      "text/plain": [
       "True"
      ]
     },
     "execution_count": 18,
     "metadata": {},
     "output_type": "execute_result"
    }
   ],
   "source": [
    "\"Hello\".casefold() == \"heLLO\".casefold()"
   ]
  },
  {
   "cell_type": "code",
   "execution_count": 20,
   "id": "92e84eaf-b607-4e6d-af89-5746fcd2414c",
   "metadata": {
    "tags": []
   },
   "outputs": [],
   "source": [
    "st = \"   This is your python class  \""
   ]
  },
  {
   "cell_type": "code",
   "execution_count": 21,
   "id": "09ea6573-f893-44fa-a2ea-74097b8ee4bd",
   "metadata": {
    "tags": []
   },
   "outputs": [
    {
     "data": {
      "text/plain": [
       "'This is your python class'"
      ]
     },
     "execution_count": 21,
     "metadata": {},
     "output_type": "execute_result"
    }
   ],
   "source": [
    "st.strip()\n"
   ]
  },
  {
   "cell_type": "code",
   "execution_count": 22,
   "id": "ae5df6a7-8c58-4e35-891f-5cf11024a1cc",
   "metadata": {
    "tags": []
   },
   "outputs": [
    {
     "data": {
      "text/plain": [
       "'This is your python class  '"
      ]
     },
     "execution_count": 22,
     "metadata": {},
     "output_type": "execute_result"
    }
   ],
   "source": [
    "st.lstrip()"
   ]
  },
  {
   "cell_type": "code",
   "execution_count": 23,
   "id": "55403feb-c106-49d3-a919-6cf0c7ee93ed",
   "metadata": {
    "tags": []
   },
   "outputs": [
    {
     "data": {
      "text/plain": [
       "'   This is your python class'"
      ]
     },
     "execution_count": 23,
     "metadata": {},
     "output_type": "execute_result"
    }
   ],
   "source": [
    "st.rstrip()"
   ]
  },
  {
   "cell_type": "code",
   "execution_count": 30,
   "id": "3afdcaa1-0230-487d-99fb-f44dd567403e",
   "metadata": {
    "tags": []
   },
   "outputs": [],
   "source": [
    "st = \"   This is your python class\""
   ]
  },
  {
   "cell_type": "code",
   "execution_count": 31,
   "id": "66d48d47-12df-4774-9439-b105fe492c94",
   "metadata": {
    "tags": []
   },
   "outputs": [
    {
     "data": {
      "text/plain": [
       "'   This is your python '"
      ]
     },
     "execution_count": 31,
     "metadata": {},
     "output_type": "execute_result"
    }
   ],
   "source": [
    "st.rstrip('class')"
   ]
  },
  {
   "cell_type": "code",
   "execution_count": 32,
   "id": "def60e28-a1d8-46af-9eeb-d712b1dd3373",
   "metadata": {
    "tags": []
   },
   "outputs": [
    {
     "data": {
      "text/plain": [
       "False"
      ]
     },
     "execution_count": 32,
     "metadata": {},
     "output_type": "execute_result"
    }
   ],
   "source": [
    "st.isupper()"
   ]
  },
  {
   "cell_type": "code",
   "execution_count": 33,
   "id": "3adfbbf1-debe-49a1-9761-75b265e64024",
   "metadata": {
    "tags": []
   },
   "outputs": [
    {
     "data": {
      "text/plain": [
       "False"
      ]
     },
     "execution_count": 33,
     "metadata": {},
     "output_type": "execute_result"
    }
   ],
   "source": [
    "st.islower()"
   ]
  },
  {
   "cell_type": "code",
   "execution_count": 34,
   "id": "0144120f-26cc-49d4-9f61-aeb791e3342f",
   "metadata": {
    "tags": []
   },
   "outputs": [
    {
     "data": {
      "text/plain": [
       "False"
      ]
     },
     "execution_count": 34,
     "metadata": {},
     "output_type": "execute_result"
    }
   ],
   "source": [
    "st.istitle()"
   ]
  },
  {
   "cell_type": "code",
   "execution_count": 36,
   "id": "7372491a-48c2-4ba1-8457-1169db3adc86",
   "metadata": {
    "tags": []
   },
   "outputs": [
    {
     "data": {
      "text/plain": [
       "True"
      ]
     },
     "execution_count": 36,
     "metadata": {},
     "output_type": "execute_result"
    }
   ],
   "source": [
    "s = \"hello\"\n",
    "s.isalpha()"
   ]
  },
  {
   "cell_type": "code",
   "execution_count": 37,
   "id": "f00557fe-b51d-4def-bc3c-ef7944aa8a06",
   "metadata": {
    "tags": []
   },
   "outputs": [
    {
     "data": {
      "text/plain": [
       "False"
      ]
     },
     "execution_count": 37,
     "metadata": {},
     "output_type": "execute_result"
    }
   ],
   "source": [
    "s = \"hello6\"\n",
    "s.isnumeric()"
   ]
  },
  {
   "cell_type": "code",
   "execution_count": 38,
   "id": "31326994-06b9-47e9-8b7f-f08e05e3105b",
   "metadata": {
    "tags": []
   },
   "outputs": [
    {
     "data": {
      "text/plain": [
       "False"
      ]
     },
     "execution_count": 38,
     "metadata": {},
     "output_type": "execute_result"
    }
   ],
   "source": [
    "s.isdigit()"
   ]
  },
  {
   "cell_type": "code",
   "execution_count": 40,
   "id": "c5c01566-2a59-4778-95f7-9b4bdc77400c",
   "metadata": {
    "tags": []
   },
   "outputs": [
    {
     "data": {
      "text/plain": [
       "True"
      ]
     },
     "execution_count": 40,
     "metadata": {},
     "output_type": "execute_result"
    }
   ],
   "source": [
    "s.isalnum()"
   ]
  },
  {
   "cell_type": "code",
   "execution_count": 41,
   "id": "bc7468ba-b9de-4e4b-aa12-563fd5f70f21",
   "metadata": {
    "tags": []
   },
   "outputs": [],
   "source": [
    "st = \"This is your python programming class\""
   ]
  },
  {
   "cell_type": "code",
   "execution_count": 45,
   "id": "deb76da5-b5b2-4508-9f65-5625f914be57",
   "metadata": {
    "tags": []
   },
   "outputs": [
    {
     "data": {
      "text/plain": [
       "['This', 'is', 'your', 'python', 'programming', 'class']"
      ]
     },
     "execution_count": 45,
     "metadata": {},
     "output_type": "execute_result"
    }
   ],
   "source": [
    "a = st.split()\n",
    "a"
   ]
  },
  {
   "cell_type": "code",
   "execution_count": 44,
   "id": "51ca3661-0841-4094-a1f0-68d07844f968",
   "metadata": {
    "tags": []
   },
   "outputs": [
    {
     "data": {
      "text/plain": [
       "6"
      ]
     },
     "execution_count": 44,
     "metadata": {},
     "output_type": "execute_result"
    }
   ],
   "source": [
    "len(a)"
   ]
  },
  {
   "cell_type": "code",
   "execution_count": 46,
   "id": "0711fea2-0bb3-4e67-9d8a-ed7253234d54",
   "metadata": {
    "tags": []
   },
   "outputs": [
    {
     "data": {
      "text/plain": [
       "('This is your ', 'python', ' programming class')"
      ]
     },
     "execution_count": 46,
     "metadata": {},
     "output_type": "execute_result"
    }
   ],
   "source": [
    "st.partition('python')"
   ]
  },
  {
   "cell_type": "code",
   "execution_count": 49,
   "id": "91d7586c-343f-4625-9929-ad39a258a038",
   "metadata": {
    "tags": []
   },
   "outputs": [
    {
     "data": {
      "text/plain": [
       "'This is your python programming class'"
      ]
     },
     "execution_count": 49,
     "metadata": {},
     "output_type": "execute_result"
    }
   ],
   "source": [
    "' '.join(a)"
   ]
  },
  {
   "cell_type": "code",
   "execution_count": 51,
   "id": "53559924-bde0-4460-9d23-ebc65c88e747",
   "metadata": {
    "tags": []
   },
   "outputs": [],
   "source": [
    "st = \"  \" + st + \"  \""
   ]
  },
  {
   "cell_type": "code",
   "execution_count": 52,
   "id": "948c8444-dfa3-4e6c-9c70-7833e2a2dbd5",
   "metadata": {
    "tags": []
   },
   "outputs": [
    {
     "data": {
      "text/plain": [
       "'  This is your python programming class  '"
      ]
     },
     "execution_count": 52,
     "metadata": {},
     "output_type": "execute_result"
    }
   ],
   "source": [
    "st"
   ]
  },
  {
   "cell_type": "code",
   "execution_count": 53,
   "id": "5023b6a5-b1bc-418b-b9b5-ef8bb431337e",
   "metadata": {
    "tags": []
   },
   "outputs": [
    {
     "data": {
      "text/plain": [
       "4"
      ]
     },
     "execution_count": 53,
     "metadata": {},
     "output_type": "execute_result"
    }
   ],
   "source": [
    "st.index('i')"
   ]
  },
  {
   "cell_type": "code",
   "execution_count": 54,
   "id": "90cb50c6-10ca-49f1-a4ee-fab41f5f0ef3",
   "metadata": {
    "tags": []
   },
   "outputs": [
    {
     "data": {
      "text/plain": [
       "30"
      ]
     },
     "execution_count": 54,
     "metadata": {},
     "output_type": "execute_result"
    }
   ],
   "source": [
    "st.rindex('i')"
   ]
  },
  {
   "cell_type": "code",
   "execution_count": 55,
   "id": "977e52e3-5415-4ec9-b378-62251ef4c20d",
   "metadata": {
    "tags": []
   },
   "outputs": [
    {
     "ename": "ValueError",
     "evalue": "substring not found",
     "output_type": "error",
     "traceback": [
      "\u001b[1;31m---------------------------------------------------------------------------\u001b[0m",
      "\u001b[1;31mValueError\u001b[0m                                Traceback (most recent call last)",
      "Cell \u001b[1;32mIn[55], line 1\u001b[0m\n\u001b[1;32m----> 1\u001b[0m st\u001b[38;5;241m.\u001b[39mindex(\u001b[38;5;124m'\u001b[39m\u001b[38;5;124mz\u001b[39m\u001b[38;5;124m'\u001b[39m)\n",
      "\u001b[1;31mValueError\u001b[0m: substring not found"
     ]
    }
   ],
   "source": [
    "st.index('z')"
   ]
  },
  {
   "cell_type": "code",
   "execution_count": 56,
   "id": "f60659ec-efd3-4db1-a367-775e084085aa",
   "metadata": {
    "tags": []
   },
   "outputs": [
    {
     "data": {
      "text/plain": [
       "-1"
      ]
     },
     "execution_count": 56,
     "metadata": {},
     "output_type": "execute_result"
    }
   ],
   "source": [
    "st.find('z')"
   ]
  },
  {
   "cell_type": "code",
   "execution_count": 58,
   "id": "b1ad5a86-2766-4aee-97e0-a1388c3f859b",
   "metadata": {
    "tags": []
   },
   "outputs": [
    {
     "data": {
      "text/plain": [
       "'  Thqs is your python programming class  '"
      ]
     },
     "execution_count": 58,
     "metadata": {},
     "output_type": "execute_result"
    }
   ],
   "source": [
    "st.replace('i','q',1)"
   ]
  },
  {
   "cell_type": "code",
   "execution_count": 1,
   "id": "7f5989f4-8d19-44fc-b1a3-a345c73b4923",
   "metadata": {
    "tags": []
   },
   "outputs": [],
   "source": [
    "st = \"hello world\""
   ]
  },
  {
   "cell_type": "code",
   "execution_count": 2,
   "id": "8ae3b8f7-619f-43a5-8b1b-ce77385841b6",
   "metadata": {
    "tags": []
   },
   "outputs": [
    {
     "data": {
      "text/plain": [
       "'e'"
      ]
     },
     "execution_count": 2,
     "metadata": {},
     "output_type": "execute_result"
    }
   ],
   "source": [
    "st[1]"
   ]
  },
  {
   "cell_type": "code",
   "execution_count": 3,
   "id": "5980c78f-0769-432b-ad2f-7913067a50ac",
   "metadata": {
    "tags": []
   },
   "outputs": [
    {
     "data": {
      "text/plain": [
       "'o'"
      ]
     },
     "execution_count": 3,
     "metadata": {},
     "output_type": "execute_result"
    }
   ],
   "source": [
    "st[-4]"
   ]
  },
  {
   "cell_type": "code",
   "execution_count": 4,
   "id": "1cf6581d-b90f-48fe-acb1-0bb5911c6421",
   "metadata": {},
   "outputs": [
    {
     "data": {
      "text/plain": [
       "'world'"
      ]
     },
     "execution_count": 4,
     "metadata": {},
     "output_type": "execute_result"
    }
   ],
   "source": [
    "st[6:11:1]"
   ]
  },
  {
   "cell_type": "code",
   "execution_count": 9,
   "id": "36a91fb8-bead-47aa-ace2-db8c8cef49ae",
   "metadata": {
    "tags": []
   },
   "outputs": [
    {
     "data": {
      "text/plain": [
       "'hello wor'"
      ]
     },
     "execution_count": 9,
     "metadata": {},
     "output_type": "execute_result"
    }
   ],
   "source": [
    "st[0:9:1]"
   ]
  },
  {
   "cell_type": "code",
   "execution_count": 14,
   "id": "ab33afde-1e06-48a9-a26c-c09c997df3b4",
   "metadata": {
    "tags": []
   },
   "outputs": [
    {
     "data": {
      "text/plain": [
       "'dlrow olleh'"
      ]
     },
     "execution_count": 14,
     "metadata": {},
     "output_type": "execute_result"
    }
   ],
   "source": [
    "st[-1:-12:-1]"
   ]
  },
  {
   "cell_type": "code",
   "execution_count": 15,
   "id": "41cc4dd4-3832-4c15-90be-46c574d60529",
   "metadata": {
    "tags": []
   },
   "outputs": [
    {
     "data": {
      "text/plain": [
       "'dlrow olleh'"
      ]
     },
     "execution_count": 15,
     "metadata": {},
     "output_type": "execute_result"
    }
   ],
   "source": [
    "st[::-1]"
   ]
  },
  {
   "cell_type": "code",
   "execution_count": 18,
   "id": "56a39d4d-dbb8-4a09-979f-a9816e52d7fa",
   "metadata": {
    "tags": []
   },
   "outputs": [
    {
     "name": "stdin",
     "output_type": "stream",
     "text": [
      "Enter the string.. abhg\n"
     ]
    },
    {
     "name": "stdout",
     "output_type": "stream",
     "text": [
      "ghba\n",
      "String is not palindrome..\n"
     ]
    }
   ],
   "source": [
    "#check whether string is palindrome or not.\n",
    "\n",
    "st = input(\"Enter the string..\")\n",
    "\n",
    "rev = st[::-1]\n",
    "print(rev)\n",
    "if rev == st:\n",
    "    print(\"String is palindrome..\")\n",
    "else:\n",
    "    print(\"String is not palindrome..\")"
   ]
  },
  {
   "cell_type": "code",
   "execution_count": 23,
   "id": "58eb06f9-38ec-4787-93ec-ea3b6862b777",
   "metadata": {
    "tags": []
   },
   "outputs": [
    {
     "name": "stdin",
     "output_type": "stream",
     "text": [
      "Enter the string.. This is my data analytics course and we are doing python\n"
     ]
    },
    {
     "name": "stdout",
     "output_type": "stream",
     "text": [
      "analytics=> 9 and=> 3 are=> 3 doing=> 5 "
     ]
    }
   ],
   "source": [
    "#print only the even length words from a string\n",
    "st = input(\"Enter the string..\")\n",
    "\n",
    "temp = st.split()\n",
    "for i in temp:\n",
    "    if len(i)%2 != 0:\n",
    "        print(f\"{i }=> {len(i)}\",end = \" \")"
   ]
  },
  {
   "cell_type": "code",
   "execution_count": 30,
   "id": "487ea0f0-469c-4ba8-9214-3658a6406728",
   "metadata": {
    "tags": []
   },
   "outputs": [],
   "source": [
    "#replace all commas with dot ... and dot with commas\n",
    "st = \"Brain,Mentors.and,skill.risers,\"\n",
    "\n",
    "st = st.replace(',','@')\n",
    "st = st.replace('.',',')\n",
    "st = st.replace('@','.')"
   ]
  },
  {
   "cell_type": "code",
   "execution_count": 31,
   "id": "5ab16c79-a6af-4f3c-84d7-78b7d6e69745",
   "metadata": {
    "tags": []
   },
   "outputs": [
    {
     "data": {
      "text/plain": [
       "'Brain.Mentors,and.skill,risers.'"
      ]
     },
     "execution_count": 31,
     "metadata": {},
     "output_type": "execute_result"
    }
   ],
   "source": [
    "st"
   ]
  },
  {
   "cell_type": "code",
   "execution_count": null,
   "id": "da32c025-63ed-4945-b886-b3c651573967",
   "metadata": {},
   "outputs": [],
   "source": []
  }
 ],
 "metadata": {
  "kernelspec": {
   "display_name": "Python 3 (ipykernel)",
   "language": "python",
   "name": "python3"
  },
  "language_info": {
   "codemirror_mode": {
    "name": "ipython",
    "version": 3
   },
   "file_extension": ".py",
   "mimetype": "text/x-python",
   "name": "python",
   "nbconvert_exporter": "python",
   "pygments_lexer": "ipython3",
   "version": "3.11.5"
  }
 },
 "nbformat": 4,
 "nbformat_minor": 5
}
