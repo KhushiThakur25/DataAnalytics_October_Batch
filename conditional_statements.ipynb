{
 "cells": [
  {
   "cell_type": "code",
   "execution_count": 2,
   "id": "ecbc9ff4-8d91-4c19-8d6e-39685df29927",
   "metadata": {
    "tags": []
   },
   "outputs": [
    {
     "name": "stdout",
     "output_type": "stream",
     "text": [
      "a is greater..\n"
     ]
    }
   ],
   "source": [
    "#Conditions based\n",
    "#if - else\n",
    "\n",
    "a = 15\n",
    "b = 6\n",
    "\n",
    "if a > b:\n",
    "    print(\"a is greater..\")\n",
    "else:\n",
    "    print(\"b is greater..\")"
   ]
  },
  {
   "cell_type": "code",
   "execution_count": 4,
   "id": "4a39fa07-fdc1-4081-86a7-fc16ee2e208b",
   "metadata": {
    "tags": []
   },
   "outputs": [
    {
     "name": "stdout",
     "output_type": "stream",
     "text": [
      "Number is even..\n"
     ]
    }
   ],
   "source": [
    "a = 52\n",
    "\n",
    "if a%2 == 0:\n",
    "    print(\"Number is even..\")\n",
    "else:\n",
    "    print(\"Number is odd..\")"
   ]
  },
  {
   "cell_type": "code",
   "execution_count": 11,
   "id": "aa4cc0fd-76e2-4208-bfc5-b8875ac02c05",
   "metadata": {
    "tags": []
   },
   "outputs": [
    {
     "name": "stdin",
     "output_type": "stream",
     "text": [
      "Enter the number.. 55\n"
     ]
    }
   ],
   "source": [
    "# by default type of input variable is string..\n",
    "n = int(input(\"Enter the number..\"))"
   ]
  },
  {
   "cell_type": "code",
   "execution_count": 12,
   "id": "4c8b5e29-dcc7-42f4-a2e2-25c4086504c8",
   "metadata": {
    "tags": []
   },
   "outputs": [
    {
     "name": "stdin",
     "output_type": "stream",
     "text": [
      "Enter the value of m.. 22\n"
     ]
    }
   ],
   "source": [
    "m = int(input(\"Enter the value of m..\"))"
   ]
  },
  {
   "cell_type": "code",
   "execution_count": 13,
   "id": "a4ee4f29-a20c-4eb6-8846-a22adfad2107",
   "metadata": {
    "tags": []
   },
   "outputs": [
    {
     "data": {
      "text/plain": [
       "77"
      ]
     },
     "execution_count": 13,
     "metadata": {},
     "output_type": "execute_result"
    }
   ],
   "source": [
    "n + m"
   ]
  },
  {
   "cell_type": "code",
   "execution_count": 14,
   "id": "65e6fe6d-22ea-4e8e-87b4-4fdf23dbf0e5",
   "metadata": {
    "tags": []
   },
   "outputs": [
    {
     "data": {
      "text/plain": [
       "int"
      ]
     },
     "execution_count": 14,
     "metadata": {},
     "output_type": "execute_result"
    }
   ],
   "source": [
    "type(n)"
   ]
  },
  {
   "cell_type": "code",
   "execution_count": 10,
   "id": "ee9cd2ab-09b6-42f2-b36a-0f992b143985",
   "metadata": {
    "tags": []
   },
   "outputs": [
    {
     "data": {
      "text/plain": [
       "'Hello world'"
      ]
     },
     "execution_count": 10,
     "metadata": {},
     "output_type": "execute_result"
    }
   ],
   "source": [
    "\"Hello \" + \"world\""
   ]
  },
  {
   "cell_type": "code",
   "execution_count": 16,
   "id": "052e55c2-981f-4d6a-b80f-76d301bbaf20",
   "metadata": {
    "tags": []
   },
   "outputs": [
    {
     "name": "stdin",
     "output_type": "stream",
     "text": [
      "Enter the value of n.. 23\n"
     ]
    },
    {
     "name": "stdout",
     "output_type": "stream",
     "text": [
      "Your number is unlucky..\n"
     ]
    }
   ],
   "source": [
    "# if number is divisible by 5 and 11 both ..then it will be a lucky number otherwise it will be a unlucky number.\n",
    "n = int(input(\"Enter the value of n..\"))\n",
    "\n",
    "if n%5 == 0 and n%11 == 0:\n",
    "    print(\"Your number is lucky..\")\n",
    "else:\n",
    "    print(\"Your number is unlucky..\")"
   ]
  },
  {
   "cell_type": "code",
   "execution_count": 18,
   "id": "df1960b1-d62e-4c36-a8e6-df04aa075929",
   "metadata": {
    "tags": []
   },
   "outputs": [
    {
     "name": "stdout",
     "output_type": "stream",
     "text": [
      "b is greatest..\n"
     ]
    }
   ],
   "source": [
    "#IF-ELSE elif - ladder\n",
    "\n",
    "a = 5\n",
    "b = 23\n",
    "c = 8\n",
    "\n",
    "if a>b and a >c:\n",
    "    print(\"a is greatest..\")\n",
    "elif b>a and b>c:\n",
    "    print(\"b is greatest..\")\n",
    "else:\n",
    "    print(\"c is greatest..\")"
   ]
  },
  {
   "cell_type": "code",
   "execution_count": 3,
   "id": "891f798e-7f31-415e-95cc-c09a6a159966",
   "metadata": {
    "tags": []
   },
   "outputs": [
    {
     "name": "stdin",
     "output_type": "stream",
     "text": [
      "Enter your age.. 15\n"
     ]
    },
    {
     "name": "stdout",
     "output_type": "stream",
     "text": [
      "Exit..\n"
     ]
    }
   ],
   "source": [
    "#nested - if else \n",
    "\n",
    "\n",
    "#party - age above and equal 18, inviteId\n",
    "# gate1 - age\n",
    "# gate2 - ID\n",
    "age = int(input(\"Enter your age..\"))\n",
    "\n",
    "if age >= 18:\n",
    "    print(\"Welcome to gate no. 1\")\n",
    "    ID = input(\"If you have Id then write True , otherwise False\")\n",
    "    if ID == \"True\":\n",
    "        print(\"Welcome to party!\")\n",
    "    else:\n",
    "        print(\"Exit..\")\n",
    "else:\n",
    "    print(\"Exit..\")"
   ]
  },
  {
   "cell_type": "code",
   "execution_count": 6,
   "id": "40c21ede-f4ae-48f1-84d1-1c30bc11f712",
   "metadata": {
    "tags": []
   },
   "outputs": [
    {
     "name": "stdin",
     "output_type": "stream",
     "text": [
      "Enter the value of num.. 0\n"
     ]
    },
    {
     "name": "stdout",
     "output_type": "stream",
     "text": [
      "Number is Zero..\n"
     ]
    }
   ],
   "source": [
    "num = int(input(\"Enter the value of num..\"))\n",
    "\n",
    "if num > 0:\n",
    "    print(\"Number is positive..\")\n",
    "elif num < 0:\n",
    "    print(\"Number is negative..\")\n",
    "else:\n",
    "    print(\"Number is Zero..\")"
   ]
  },
  {
   "cell_type": "code",
   "execution_count": 5,
   "id": "bcf343de-9568-401b-804d-99df8c904947",
   "metadata": {},
   "outputs": [
    {
     "name": "stdin",
     "output_type": "stream",
     "text": [
      "Enter Your basic salary.. 65000\n"
     ]
    },
    {
     "name": "stdout",
     "output_type": "stream",
     "text": [
      "Your gross salary is: 146250.0\n"
     ]
    }
   ],
   "source": [
    "Bsalary = int(input(\"Enter Your basic salary..\"))\n",
    "\n",
    "if Bsalary <= 10000:\n",
    "    HRA = 0.2 * Bsalary\n",
    "    DA = 0.8 * Bsalary\n",
    "elif Bsalary <= 20000:\n",
    "    HRA = 0.25 * Bsalary\n",
    "    DA = 0.9 * Bsalary\n",
    "else:\n",
    "    HRA = 0.3 * Bsalary\n",
    "    DA = 0.95 * Bsalary\n",
    "GrossSalary = Bsalary + HRA + DA\n",
    "print(\"Your gross salary is:\",GrossSalary)"
   ]
  },
  {
   "cell_type": "code",
   "execution_count": 2,
   "id": "23371b12-a076-490d-954e-8edfbb5f5067",
   "metadata": {
    "tags": []
   },
   "outputs": [
    {
     "data": {
      "text/plain": [
       "1600.0"
      ]
     },
     "execution_count": 2,
     "metadata": {},
     "output_type": "execute_result"
    }
   ],
   "source": [
    "0.2 * 8000\n"
   ]
  },
  {
   "cell_type": "code",
   "execution_count": 3,
   "id": "a62c7a07-8e3b-438d-9e2a-4418baa2c4e8",
   "metadata": {
    "tags": []
   },
   "outputs": [
    {
     "data": {
      "text/plain": [
       "6400.0"
      ]
     },
     "execution_count": 3,
     "metadata": {},
     "output_type": "execute_result"
    }
   ],
   "source": [
    "0.8 * 8000"
   ]
  },
  {
   "cell_type": "code",
   "execution_count": 4,
   "id": "1ce1c150-a97e-43a6-b12e-453b8ab4144f",
   "metadata": {
    "tags": []
   },
   "outputs": [
    {
     "data": {
      "text/plain": [
       "8000"
      ]
     },
     "execution_count": 4,
     "metadata": {},
     "output_type": "execute_result"
    }
   ],
   "source": [
    "6400 + 1600"
   ]
  },
  {
   "cell_type": "code",
   "execution_count": 6,
   "id": "7c702f5b-a3a7-493f-a27c-ccdf7b59aae4",
   "metadata": {
    "tags": []
   },
   "outputs": [
    {
     "data": {
      "text/plain": [
       "452"
      ]
     },
     "execution_count": 6,
     "metadata": {},
     "output_type": "execute_result"
    }
   ],
   "source": [
    "95 + 94 + 89 + 91 + 83"
   ]
  },
  {
   "cell_type": "code",
   "execution_count": 7,
   "id": "4e6c17a3-60fd-48f7-b0c3-8d67befe15b2",
   "metadata": {
    "tags": []
   },
   "outputs": [
    {
     "data": {
      "text/plain": [
       "90.4"
      ]
     },
     "execution_count": 7,
     "metadata": {},
     "output_type": "execute_result"
    }
   ],
   "source": [
    "452 / 5"
   ]
  },
  {
   "cell_type": "code",
   "execution_count": 9,
   "id": "21394003-8884-4f4c-b262-9d4c5cbc7fae",
   "metadata": {
    "tags": []
   },
   "outputs": [
    {
     "name": "stdout",
     "output_type": "stream",
     "text": [
      "Enter your marks of - \n"
     ]
    },
    {
     "name": "stdin",
     "output_type": "stream",
     "text": [
      "Physics 65\n",
      "Chemistry 54\n",
      "Biology 84\n",
      "Hindi 75\n",
      "Maths 54\n"
     ]
    },
    {
     "name": "stdout",
     "output_type": "stream",
     "text": [
      "Your percentage is: 66.4\n",
      "Your grade is D\n"
     ]
    }
   ],
   "source": [
    "print(\"Enter your marks of - \")\n",
    "py = int(input(\"Physics\"))\n",
    "ch = int(input(\"Chemistry\"))\n",
    "bi = int(input(\"Biology\"))\n",
    "hi = int(input(\"Hindi\"))\n",
    "ma = int(input(\"Maths\"))\n",
    "\n",
    "total = py + ch + bi + hi + ma\n",
    "\n",
    "percentage = total / 5\n",
    "print(\"Your percentage is:\",percentage)\n",
    "\n",
    "if percentage >= 90:\n",
    "    print(\"Your grade is A\")\n",
    "elif percentage >= 80:\n",
    "    print(\"Your grade is B\")\n",
    "elif percentage >= 70:\n",
    "    print(\"Your grade is C\")\n",
    "elif percentage >= 60:\n",
    "    print(\"Your grade is D\")\n",
    "elif percentage >= 40:\n",
    "    print(\"Your grade is E\")\n",
    "else:\n",
    "    print(\"Your grade is F\")"
   ]
  },
  {
   "cell_type": "code",
   "execution_count": 7,
   "id": "99d34d1d-ed78-49f0-a4d6-fae5f7c16d2f",
   "metadata": {},
   "outputs": [
    {
     "name": "stdin",
     "output_type": "stream",
     "text": [
      "Enter the number.. 8\n"
     ]
    }
   ],
   "source": [
    "n = int(input(\"Enter the number..\"))\n",
    "n //= 2"
   ]
  },
  {
   "cell_type": "code",
   "execution_count": 8,
   "id": "68a10c44-cfe6-4346-b9b7-f4c928e4df9e",
   "metadata": {
    "tags": []
   },
   "outputs": [
    {
     "name": "stdout",
     "output_type": "stream",
     "text": [
      "4\n"
     ]
    }
   ],
   "source": [
    "print(n)\n",
    "n *= 4"
   ]
  },
  {
   "cell_type": "code",
   "execution_count": 9,
   "id": "7d4d7a5a-f73c-40d0-8ce3-319e39819481",
   "metadata": {
    "tags": []
   },
   "outputs": [
    {
     "data": {
      "text/plain": [
       "16"
      ]
     },
     "execution_count": 9,
     "metadata": {},
     "output_type": "execute_result"
    }
   ],
   "source": [
    "n"
   ]
  },
  {
   "cell_type": "code",
   "execution_count": 10,
   "id": "48b972c3-96bd-42bd-ace7-1e387f66e174",
   "metadata": {
    "tags": []
   },
   "outputs": [],
   "source": [
    "n = 8\n",
    "half = n // 2"
   ]
  },
  {
   "cell_type": "code",
   "execution_count": 11,
   "id": "5bf993ba-a63c-49e0-a54c-d61b036252f5",
   "metadata": {
    "tags": []
   },
   "outputs": [
    {
     "data": {
      "text/plain": [
       "4"
      ]
     },
     "execution_count": 11,
     "metadata": {},
     "output_type": "execute_result"
    }
   ],
   "source": [
    "half"
   ]
  },
  {
   "cell_type": "code",
   "execution_count": 13,
   "id": "930f2446-f989-4164-8639-40676f592901",
   "metadata": {
    "tags": []
   },
   "outputs": [],
   "source": [
    "double = n * 2"
   ]
  },
  {
   "cell_type": "code",
   "execution_count": 14,
   "id": "9842cf0a-b943-41ab-a64c-bf2b45d0c0c5",
   "metadata": {
    "tags": []
   },
   "outputs": [
    {
     "data": {
      "text/plain": [
       "16"
      ]
     },
     "execution_count": 14,
     "metadata": {},
     "output_type": "execute_result"
    }
   ],
   "source": [
    "double"
   ]
  },
  {
   "cell_type": "code",
   "execution_count": 15,
   "id": "7fa73877-b5d2-4033-97aa-b17686bdaa1d",
   "metadata": {
    "tags": []
   },
   "outputs": [],
   "source": [
    "import math\n",
    "n = pow(2,2)"
   ]
  },
  {
   "cell_type": "code",
   "execution_count": 18,
   "id": "01719c50-fdc1-40cb-835b-86dbf08696c1",
   "metadata": {
    "tags": []
   },
   "outputs": [],
   "source": [
    "n = n + 1\n",
    "# n += 1"
   ]
  },
  {
   "cell_type": "code",
   "execution_count": 20,
   "id": "e0b31083-adc7-41c3-84d5-862e2c2b0ea9",
   "metadata": {
    "tags": []
   },
   "outputs": [
    {
     "name": "stdout",
     "output_type": "stream",
     "text": [
      "100\n"
     ]
    }
   ],
   "source": []
  },
  {
   "cell_type": "code",
   "execution_count": null,
   "id": "58deaff0-5832-44ee-82e2-ad641da27953",
   "metadata": {},
   "outputs": [],
   "source": []
  }
 ],
 "metadata": {
  "kernelspec": {
   "display_name": "Python 3 (ipykernel)",
   "language": "python",
   "name": "python3"
  },
  "language_info": {
   "codemirror_mode": {
    "name": "ipython",
    "version": 3
   },
   "file_extension": ".py",
   "mimetype": "text/x-python",
   "name": "python",
   "nbconvert_exporter": "python",
   "pygments_lexer": "ipython3",
   "version": "3.11.5"
  }
 },
 "nbformat": 4,
 "nbformat_minor": 5
}
