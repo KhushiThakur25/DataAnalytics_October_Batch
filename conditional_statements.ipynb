{
 "cells": [
  {
   "cell_type": "code",
   "execution_count": 2,
   "id": "ecbc9ff4-8d91-4c19-8d6e-39685df29927",
   "metadata": {
    "tags": []
   },
   "outputs": [
    {
     "name": "stdout",
     "output_type": "stream",
     "text": [
      "a is greater..\n"
     ]
    }
   ],
   "source": [
    "#Conditions based\n",
    "#if - else\n",
    "\n",
    "a = 15\n",
    "b = 6\n",
    "\n",
    "if a > b:\n",
    "    print(\"a is greater..\")\n",
    "else:\n",
    "    print(\"b is greater..\")"
   ]
  },
  {
   "cell_type": "code",
   "execution_count": 4,
   "id": "4a39fa07-fdc1-4081-86a7-fc16ee2e208b",
   "metadata": {
    "tags": []
   },
   "outputs": [
    {
     "name": "stdout",
     "output_type": "stream",
     "text": [
      "Number is even..\n"
     ]
    }
   ],
   "source": [
    "a = 52\n",
    "\n",
    "if a%2 == 0:\n",
    "    print(\"Number is even..\")\n",
    "else:\n",
    "    print(\"Number is odd..\")"
   ]
  },
  {
   "cell_type": "code",
   "execution_count": 11,
   "id": "aa4cc0fd-76e2-4208-bfc5-b8875ac02c05",
   "metadata": {
    "tags": []
   },
   "outputs": [
    {
     "name": "stdin",
     "output_type": "stream",
     "text": [
      "Enter the number.. 55\n"
     ]
    }
   ],
   "source": [
    "# by default type of input variable is string..\n",
    "n = int(input(\"Enter the number..\"))"
   ]
  },
  {
   "cell_type": "code",
   "execution_count": 12,
   "id": "4c8b5e29-dcc7-42f4-a2e2-25c4086504c8",
   "metadata": {
    "tags": []
   },
   "outputs": [
    {
     "name": "stdin",
     "output_type": "stream",
     "text": [
      "Enter the value of m.. 22\n"
     ]
    }
   ],
   "source": [
    "m = int(input(\"Enter the value of m..\"))"
   ]
  },
  {
   "cell_type": "code",
   "execution_count": 13,
   "id": "a4ee4f29-a20c-4eb6-8846-a22adfad2107",
   "metadata": {
    "tags": []
   },
   "outputs": [
    {
     "data": {
      "text/plain": [
       "77"
      ]
     },
     "execution_count": 13,
     "metadata": {},
     "output_type": "execute_result"
    }
   ],
   "source": [
    "n + m"
   ]
  },
  {
   "cell_type": "code",
   "execution_count": 14,
   "id": "65e6fe6d-22ea-4e8e-87b4-4fdf23dbf0e5",
   "metadata": {
    "tags": []
   },
   "outputs": [
    {
     "data": {
      "text/plain": [
       "int"
      ]
     },
     "execution_count": 14,
     "metadata": {},
     "output_type": "execute_result"
    }
   ],
   "source": [
    "type(n)"
   ]
  },
  {
   "cell_type": "code",
   "execution_count": 10,
   "id": "ee9cd2ab-09b6-42f2-b36a-0f992b143985",
   "metadata": {
    "tags": []
   },
   "outputs": [
    {
     "data": {
      "text/plain": [
       "'Hello world'"
      ]
     },
     "execution_count": 10,
     "metadata": {},
     "output_type": "execute_result"
    }
   ],
   "source": [
    "\"Hello \" + \"world\""
   ]
  },
  {
   "cell_type": "code",
   "execution_count": 16,
   "id": "052e55c2-981f-4d6a-b80f-76d301bbaf20",
   "metadata": {
    "tags": []
   },
   "outputs": [
    {
     "name": "stdin",
     "output_type": "stream",
     "text": [
      "Enter the value of n.. 23\n"
     ]
    },
    {
     "name": "stdout",
     "output_type": "stream",
     "text": [
      "Your number is unlucky..\n"
     ]
    }
   ],
   "source": [
    "# if number is divisible by 5 and 11 both ..then it will be a lucky number otherwise it will be a unlucky number.\n",
    "n = int(input(\"Enter the value of n..\"))\n",
    "\n",
    "if n%5 == 0 and n%11 == 0:\n",
    "    print(\"Your number is lucky..\")\n",
    "else:\n",
    "    print(\"Your number is unlucky..\")"
   ]
  },
  {
   "cell_type": "code",
   "execution_count": 18,
   "id": "df1960b1-d62e-4c36-a8e6-df04aa075929",
   "metadata": {
    "tags": []
   },
   "outputs": [
    {
     "name": "stdout",
     "output_type": "stream",
     "text": [
      "b is greatest..\n"
     ]
    }
   ],
   "source": [
    "#IF-ELSE elif - ladder\n",
    "\n",
    "a = 5\n",
    "b = 23\n",
    "c = 8\n",
    "\n",
    "if a>b and a >c:\n",
    "    print(\"a is greatest..\")\n",
    "elif b>a and b>c:\n",
    "    print(\"b is greatest..\")\n",
    "else:\n",
    "    print(\"c is greatest..\")"
   ]
  },
  {
   "cell_type": "code",
   "execution_count": 3,
   "id": "891f798e-7f31-415e-95cc-c09a6a159966",
   "metadata": {
    "tags": []
   },
   "outputs": [
    {
     "name": "stdin",
     "output_type": "stream",
     "text": [
      "Enter your age.. 15\n"
     ]
    },
    {
     "name": "stdout",
     "output_type": "stream",
     "text": [
      "Exit..\n"
     ]
    }
   ],
   "source": [
    "#nested - if else \n",
    "\n",
    "\n",
    "#party - age above and equal 18, inviteId\n",
    "# gate1 - age\n",
    "# gate2 - ID\n",
    "age = int(input(\"Enter your age..\"))\n",
    "\n",
    "if age >= 18:\n",
    "    print(\"Welcome to gate no. 1\")\n",
    "    ID = input(\"If you have Id then write True , otherwise False\")\n",
    "    if ID == \"True\":\n",
    "        print(\"Welcome to party!\")\n",
    "    else:\n",
    "        print(\"Exit..\")\n",
    "else:\n",
    "    print(\"Exit..\")"
   ]
  },
  {
   "cell_type": "code",
   "execution_count": 6,
   "id": "40c21ede-f4ae-48f1-84d1-1c30bc11f712",
   "metadata": {
    "tags": []
   },
   "outputs": [
    {
     "name": "stdin",
     "output_type": "stream",
     "text": [
      "Enter the value of num.. 0\n"
     ]
    },
    {
     "name": "stdout",
     "output_type": "stream",
     "text": [
      "Number is Zero..\n"
     ]
    }
   ],
   "source": [
    "num = int(input(\"Enter the value of num..\"))\n",
    "\n",
    "if num > 0:\n",
    "    print(\"Number is positive..\")\n",
    "elif num < 0:\n",
    "    print(\"Number is negative..\")\n",
    "else:\n",
    "    print(\"Number is Zero..\")"
   ]
  },
  {
   "cell_type": "code",
   "execution_count": null,
   "id": "bcf343de-9568-401b-804d-99df8c904947",
   "metadata": {},
   "outputs": [],
   "source": []
  }
 ],
 "metadata": {
  "kernelspec": {
   "display_name": "Python 3 (ipykernel)",
   "language": "python",
   "name": "python3"
  },
  "language_info": {
   "codemirror_mode": {
    "name": "ipython",
    "version": 3
   },
   "file_extension": ".py",
   "mimetype": "text/x-python",
   "name": "python",
   "nbconvert_exporter": "python",
   "pygments_lexer": "ipython3",
   "version": "3.11.5"
  }
 },
 "nbformat": 4,
 "nbformat_minor": 5
}
