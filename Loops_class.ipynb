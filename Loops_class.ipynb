{
 "cells": [
  {
   "cell_type": "code",
   "execution_count": 1,
   "id": "23c4bdd2-e710-40de-adce-c26b33aeab23",
   "metadata": {
    "tags": []
   },
   "outputs": [
    {
     "name": "stdout",
     "output_type": "stream",
     "text": [
      "0\n",
      "1\n",
      "2\n",
      "3\n",
      "4\n"
     ]
    }
   ],
   "source": [
    "#loops \n",
    "\n",
    "for i in range(0,5,1):\n",
    "    print(i)"
   ]
  },
  {
   "cell_type": "code",
   "execution_count": 2,
   "id": "22fd169c-5730-4caf-9cb4-c3a1b3da3201",
   "metadata": {
    "tags": []
   },
   "outputs": [
    {
     "name": "stdout",
     "output_type": "stream",
     "text": [
      "*\n",
      "*\n",
      "*\n",
      "*\n",
      "*\n"
     ]
    }
   ],
   "source": [
    "for i in range(5):\n",
    "    print(\"*\")"
   ]
  },
  {
   "cell_type": "code",
   "execution_count": 3,
   "id": "c59fe46d-0497-4216-94ec-711983574635",
   "metadata": {
    "tags": []
   },
   "outputs": [
    {
     "name": "stdout",
     "output_type": "stream",
     "text": [
      "* * * * * "
     ]
    }
   ],
   "source": [
    "for i in range(5):\n",
    "    print(\"*\",end = \" \")"
   ]
  },
  {
   "cell_type": "code",
   "execution_count": 4,
   "id": "930b074f-16ff-4bd8-8275-d739a29014c1",
   "metadata": {
    "tags": []
   },
   "outputs": [
    {
     "name": "stdout",
     "output_type": "stream",
     "text": [
      "1\n",
      "2\n",
      "3\n",
      "4\n",
      "5\n",
      "6\n",
      "7\n",
      "8\n",
      "9\n",
      "10\n"
     ]
    }
   ],
   "source": [
    "for i in range(1,11):\n",
    "    print(i)"
   ]
  },
  {
   "cell_type": "code",
   "execution_count": 5,
   "id": "0b0ae81e-bed1-43eb-a1ee-b09a665ea893",
   "metadata": {
    "tags": []
   },
   "outputs": [],
   "source": [
    "ad = 0\n",
    "for i in range(1,11):\n",
    "    ad = ad + i"
   ]
  },
  {
   "cell_type": "code",
   "execution_count": 6,
   "id": "aec536a0-b370-4471-84a8-6c732bbaa1e9",
   "metadata": {
    "tags": []
   },
   "outputs": [
    {
     "data": {
      "text/plain": [
       "55"
      ]
     },
     "execution_count": 6,
     "metadata": {},
     "output_type": "execute_result"
    }
   ],
   "source": [
    "ad"
   ]
  },
  {
   "cell_type": "code",
   "execution_count": 7,
   "id": "7a52575d-1fd4-4830-a10b-78e744fd5d49",
   "metadata": {
    "tags": []
   },
   "outputs": [
    {
     "name": "stdin",
     "output_type": "stream",
     "text": [
      "Enter the value for table 5\n"
     ]
    },
    {
     "name": "stdout",
     "output_type": "stream",
     "text": [
      "5 X 1 = 5\n",
      "5 X 2 = 10\n",
      "5 X 3 = 15\n",
      "5 X 4 = 20\n",
      "5 X 5 = 25\n",
      "5 X 6 = 30\n",
      "5 X 7 = 35\n",
      "5 X 8 = 40\n",
      "5 X 9 = 45\n",
      "5 X 10 = 50\n"
     ]
    }
   ],
   "source": [
    "n = int(input(\"Enter the value for table\"))\n",
    "for i in range(1,11):\n",
    "    print(f\"{n} X {i} = {n*i}\")"
   ]
  },
  {
   "cell_type": "code",
   "execution_count": 2,
   "id": "1166b418-ec32-417b-85bd-d27cbdfbe10f",
   "metadata": {
    "tags": []
   },
   "outputs": [
    {
     "name": "stdin",
     "output_type": "stream",
     "text": [
      "Enter the value.. 1234\n"
     ]
    },
    {
     "name": "stdout",
     "output_type": "stream",
     "text": [
      "Your n is : 123\n",
      "Your  count is : 1\n",
      "Your n is : 12\n",
      "Your  count is : 2\n",
      "Your n is : 1\n",
      "Your  count is : 3\n",
      "Your n is : 0\n",
      "Your  count is : 4\n",
      "4\n"
     ]
    }
   ],
   "source": [
    "n = int(input(\"Enter the value..\"))\n",
    "\n",
    "count = 0\n",
    "while n >0:\n",
    "    count += 1\n",
    "    n = n//10\n",
    "    print(\"Your n is :\",n)\n",
    "    print(\"Your  count is :\",count)\n",
    "print(count)"
   ]
  },
  {
   "cell_type": "code",
   "execution_count": 3,
   "id": "0528d59c-df78-419c-890d-05ee1b380cc3",
   "metadata": {},
   "outputs": [
    {
     "name": "stdin",
     "output_type": "stream",
     "text": [
      "Enter the number... 5\n"
     ]
    },
    {
     "name": "stdout",
     "output_type": "stream",
     "text": [
      "fact : 1 and i : 1 , then 1 \n",
      "fact : 1 and i : 2 , then 2 \n",
      "fact : 2 and i : 3 , then 6 \n",
      "fact : 6 and i : 4 , then 24 \n",
      "fact : 24 and i : 5 , then 120 \n"
     ]
    }
   ],
   "source": [
    "n = int(input(\"Enter the number...\"))\n",
    "fact = 1\n",
    "for i in range(1,n+1):\n",
    "    print(f\"fact : {fact} and i : {i} , then {fact*i} \")\n",
    "    fact *= i\n",
    "    "
   ]
  },
  {
   "cell_type": "code",
   "execution_count": 2,
   "id": "dc1dd75b-43c7-4392-addc-c096717197d3",
   "metadata": {
    "tags": []
   },
   "outputs": [
    {
     "data": {
      "text/plain": [
       "120"
      ]
     },
     "execution_count": 2,
     "metadata": {},
     "output_type": "execute_result"
    }
   ],
   "source": [
    "fact"
   ]
  },
  {
   "cell_type": "code",
   "execution_count": 5,
   "id": "9ff8573f-1a11-4f22-89ea-cdedcc2a1437",
   "metadata": {
    "tags": []
   },
   "outputs": [
    {
     "name": "stdin",
     "output_type": "stream",
     "text": [
      "Enter the number... 5\n"
     ]
    },
    {
     "name": "stdout",
     "output_type": "stream",
     "text": [
      "fact : 1 and i : 5 , then 5 \n",
      "fact : 5 and i : 4 , then 20 \n",
      "fact : 20 and i : 3 , then 60 \n",
      "fact : 60 and i : 2 , then 120 \n",
      "fact : 120 and i : 1 , then 120 \n"
     ]
    }
   ],
   "source": [
    "n = int(input(\"Enter the number...\"))\n",
    "fact = 1\n",
    "for i in range(5,0,-1):\n",
    "    print(f\"fact : {fact} and i : {i} , then {fact*i} \")\n",
    "    fact *= i"
   ]
  },
  {
   "cell_type": "code",
   "execution_count": 8,
   "id": "42fc8ed1-608a-4642-b7ea-be8842d13525",
   "metadata": {
    "tags": []
   },
   "outputs": [
    {
     "name": "stdin",
     "output_type": "stream",
     "text": [
      "Enter the range limit.. 10\n"
     ]
    },
    {
     "name": "stdout",
     "output_type": "stream",
     "text": [
      "1 cube is : 1\n",
      "2 cube is : 8\n",
      "3 cube is : 27\n",
      "4 cube is : 64\n",
      "5 cube is : 125\n",
      "6 cube is : 216\n",
      "7 cube is : 343\n",
      "8 cube is : 512\n",
      "9 cube is : 729\n",
      "10 cube is : 1000\n"
     ]
    }
   ],
   "source": [
    "n = int(input(\"Enter the range limit..\"))\n",
    "\n",
    "for i in range(1,n+1):\n",
    "    print(f\"{i} cube is : {i ** 3}\")"
   ]
  },
  {
   "cell_type": "code",
   "execution_count": 9,
   "id": "4c58eac2-188f-44be-aa70-53913ce544ed",
   "metadata": {
    "tags": []
   },
   "outputs": [
    {
     "name": "stdin",
     "output_type": "stream",
     "text": [
      "Enter the number of terms.. 8\n"
     ]
    },
    {
     "name": "stdout",
     "output_type": "stream",
     "text": [
      "0 1 1 2 3 5 8 13 "
     ]
    }
   ],
   "source": [
    "n = int(input(\"Enter the number of terms..\"))\n",
    "third = 0\n",
    "first = 0\n",
    "second = 1\n",
    "print(first , second ,end = \" \")\n",
    "for i in range(3,n+1):\n",
    "    third = first + second\n",
    "    print(third , end = \" \")\n",
    "    first = second\n",
    "    second = third\n",
    "    "
   ]
  },
  {
   "cell_type": "code",
   "execution_count": 12,
   "id": "756050bb-ea6f-4be5-a94b-b759f911010a",
   "metadata": {
    "tags": []
   },
   "outputs": [
    {
     "name": "stdout",
     "output_type": "stream",
     "text": [
      "0\n",
      "4\n",
      "8\n",
      "12\n"
     ]
    }
   ],
   "source": [
    "for i in range(0,15,4):\n",
    "    print(i)"
   ]
  },
  {
   "cell_type": "code",
   "execution_count": 4,
   "id": "0fae9989-3991-4e23-b7c5-7c36dbf49132",
   "metadata": {},
   "outputs": [
    {
     "name": "stdout",
     "output_type": "stream",
     "text": [
      "* * * * * \n",
      "* * * * * \n",
      "* * * * * \n",
      "* * * * * \n",
      "* * * * * \n"
     ]
    }
   ],
   "source": [
    "for j in range(5):\n",
    "    for i in range(5):\n",
    "        print(\"*\",end = \" \")\n",
    "    print()"
   ]
  },
  {
   "cell_type": "code",
   "execution_count": 6,
   "id": "ef1e2300-8758-4dca-a5d9-a618486b70cb",
   "metadata": {
    "tags": []
   },
   "outputs": [
    {
     "name": "stdout",
     "output_type": "stream",
     "text": [
      "(0, 0)  (0, 1)  (0, 2)  (0, 3)  (0, 4)  \n",
      "(1, 0)  (1, 1)  (1, 2)  (1, 3)  (1, 4)  \n",
      "(2, 0)  (2, 1)  (2, 2)  (2, 3)  (2, 4)  \n",
      "(3, 0)  (3, 1)  (3, 2)  (3, 3)  (3, 4)  \n",
      "(4, 0)  (4, 1)  (4, 2)  (4, 3)  (4, 4)  \n"
     ]
    }
   ],
   "source": [
    "for i in range(5):\n",
    "    for j in range(5):\n",
    "        print(f\"{i,j} \",end = \" \")\n",
    "    print()"
   ]
  },
  {
   "cell_type": "code",
   "execution_count": null,
   "id": "9686dea1-0061-4e44-9dbc-d1efaa16795f",
   "metadata": {},
   "outputs": [],
   "source": []
  }
 ],
 "metadata": {
  "kernelspec": {
   "display_name": "Python 3 (ipykernel)",
   "language": "python",
   "name": "python3"
  },
  "language_info": {
   "codemirror_mode": {
    "name": "ipython",
    "version": 3
   },
   "file_extension": ".py",
   "mimetype": "text/x-python",
   "name": "python",
   "nbconvert_exporter": "python",
   "pygments_lexer": "ipython3",
   "version": "3.11.5"
  }
 },
 "nbformat": 4,
 "nbformat_minor": 5
}
