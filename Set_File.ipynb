{
 "cells": [
  {
   "cell_type": "code",
   "execution_count": 5,
   "id": "eef69822-c4af-4952-ad8a-ec2814175211",
   "metadata": {
    "tags": []
   },
   "outputs": [],
   "source": [
    "# set is represented by {} , but also dictionary is represented by {}.\n",
    "# The difference btw them due to their values set has single element,and dictionary contains key:value pair.\n",
    "# set = {2,3,5,6} dic = {\"name\":\"Riya\"}\n",
    "# if you want to create empty set then use set method, becoz {} this empty bracket only represent empty dictionary.\n",
    "# set contains unique values and unordered value.\n",
    "st = {\"True\",False, 56.2,41}"
   ]
  },
  {
   "cell_type": "code",
   "execution_count": 6,
   "id": "07e0ba84-07e3-4556-ab1f-02e0b32f8bf1",
   "metadata": {
    "tags": []
   },
   "outputs": [
    {
     "data": {
      "text/plain": [
       "set"
      ]
     },
     "execution_count": 6,
     "metadata": {},
     "output_type": "execute_result"
    }
   ],
   "source": [
    "type(st)"
   ]
  },
  {
   "cell_type": "code",
   "execution_count": 7,
   "id": "f4a2a339-2aea-4c9b-8a54-5ad5cbd99afc",
   "metadata": {
    "tags": []
   },
   "outputs": [],
   "source": [
    "st = {1,1,1,2,3,2,32,31,3}"
   ]
  },
  {
   "cell_type": "code",
   "execution_count": 8,
   "id": "d8372a79-bf31-4925-a279-2358663e4451",
   "metadata": {
    "tags": []
   },
   "outputs": [
    {
     "data": {
      "text/plain": [
       "5"
      ]
     },
     "execution_count": 8,
     "metadata": {},
     "output_type": "execute_result"
    }
   ],
   "source": [
    "len(st)"
   ]
  },
  {
   "cell_type": "code",
   "execution_count": 9,
   "id": "87a2ef43-d1d0-47ff-8b8b-2870e2acf0b7",
   "metadata": {
    "tags": []
   },
   "outputs": [
    {
     "data": {
      "text/plain": [
       "{1, 2, 3, 31, 32}"
      ]
     },
     "execution_count": 9,
     "metadata": {},
     "output_type": "execute_result"
    }
   ],
   "source": [
    "st"
   ]
  },
  {
   "cell_type": "code",
   "execution_count": 11,
   "id": "a482eb1d-36d1-4cfb-8373-e03ad0080285",
   "metadata": {
    "tags": []
   },
   "outputs": [],
   "source": [
    "st = {1,2,34,5,5,6}"
   ]
  },
  {
   "cell_type": "code",
   "execution_count": 17,
   "id": "9d54f55b-0b29-4756-995e-04aae5632373",
   "metadata": {
    "tags": []
   },
   "outputs": [],
   "source": [
    "st1 = {7,8,5,2,1}\n",
    "st2 = {9,5,4,2,1,2}"
   ]
  },
  {
   "cell_type": "code",
   "execution_count": 13,
   "id": "822948c0-5e05-4aa0-a049-dc90cc8edf01",
   "metadata": {
    "tags": []
   },
   "outputs": [
    {
     "data": {
      "text/plain": [
       "{1, 2, 5, 6, 7, 8, 34}"
      ]
     },
     "execution_count": 13,
     "metadata": {},
     "output_type": "execute_result"
    }
   ],
   "source": [
    "st.union(st1)"
   ]
  },
  {
   "cell_type": "code",
   "execution_count": 15,
   "id": "8ffc20fb-8933-4179-b27a-1e85eea8abef",
   "metadata": {
    "tags": []
   },
   "outputs": [],
   "source": [
    "st.update(st1)"
   ]
  },
  {
   "cell_type": "code",
   "execution_count": 18,
   "id": "4de2fc8b-f008-450e-9d83-81d30308fb0c",
   "metadata": {
    "tags": []
   },
   "outputs": [
    {
     "data": {
      "text/plain": [
       "{1, 2, 4, 5, 6, 7, 8, 9, 34}"
      ]
     },
     "execution_count": 18,
     "metadata": {},
     "output_type": "execute_result"
    }
   ],
   "source": [
    "st.union(st2)"
   ]
  },
  {
   "cell_type": "code",
   "execution_count": 19,
   "id": "be5eb6e3-4e0e-4cdd-8126-dc6a40fc7fb7",
   "metadata": {
    "tags": []
   },
   "outputs": [
    {
     "data": {
      "text/plain": [
       "{1, 2, 5}"
      ]
     },
     "execution_count": 19,
     "metadata": {},
     "output_type": "execute_result"
    }
   ],
   "source": [
    "st.intersection(st2)\n",
    "#intersection_update"
   ]
  },
  {
   "cell_type": "code",
   "execution_count": 20,
   "id": "7cbfb0e4-9117-4030-aa40-0ed9bb7ddf2e",
   "metadata": {
    "tags": []
   },
   "outputs": [
    {
     "data": {
      "text/plain": [
       "False"
      ]
     },
     "execution_count": 20,
     "metadata": {},
     "output_type": "execute_result"
    }
   ],
   "source": [
    "st.issubset(st2)"
   ]
  },
  {
   "cell_type": "code",
   "execution_count": 21,
   "id": "076b10c2-c8cf-4653-bfae-b83315a77c7f",
   "metadata": {
    "tags": []
   },
   "outputs": [],
   "source": [
    "st = {1,2,3,4,5,6}\n",
    "st1 = {2,3,4,5}"
   ]
  },
  {
   "cell_type": "code",
   "execution_count": 22,
   "id": "a57d0797-0e7c-48be-b780-81af0a7616c2",
   "metadata": {
    "tags": []
   },
   "outputs": [
    {
     "data": {
      "text/plain": [
       "True"
      ]
     },
     "execution_count": 22,
     "metadata": {},
     "output_type": "execute_result"
    }
   ],
   "source": [
    "st.issuperset(st1)"
   ]
  },
  {
   "cell_type": "code",
   "execution_count": 24,
   "id": "65aba9f5-0bc5-4f02-96d4-1079b8234cad",
   "metadata": {
    "tags": []
   },
   "outputs": [
    {
     "data": {
      "text/plain": [
       "False"
      ]
     },
     "execution_count": 24,
     "metadata": {},
     "output_type": "execute_result"
    }
   ],
   "source": [
    "st.issubset(st1)"
   ]
  },
  {
   "cell_type": "code",
   "execution_count": 25,
   "id": "227593f3-817a-41e8-816c-bc413bb58a22",
   "metadata": {
    "tags": []
   },
   "outputs": [
    {
     "data": {
      "text/plain": [
       "False"
      ]
     },
     "execution_count": 25,
     "metadata": {},
     "output_type": "execute_result"
    }
   ],
   "source": [
    "st.isdisjoint(st1)\n",
    "# intersection == null"
   ]
  },
  {
   "cell_type": "code",
   "execution_count": 26,
   "id": "92dfa6b1-a7cb-4d93-9a9a-deeefcc15401",
   "metadata": {
    "tags": []
   },
   "outputs": [],
   "source": [
    "a = {1,2,3}\n",
    "b = {7,8,9}"
   ]
  },
  {
   "cell_type": "code",
   "execution_count": 27,
   "id": "11fca97f-eeb2-46dc-8589-dc07e008090e",
   "metadata": {
    "tags": []
   },
   "outputs": [
    {
     "data": {
      "text/plain": [
       "True"
      ]
     },
     "execution_count": 27,
     "metadata": {},
     "output_type": "execute_result"
    }
   ],
   "source": [
    "a.isdisjoint(b)"
   ]
  },
  {
   "cell_type": "code",
   "execution_count": 28,
   "id": "d9940805-9ff4-46a4-bdcc-8a3770fcbe92",
   "metadata": {
    "tags": []
   },
   "outputs": [],
   "source": [
    "a.add(56)"
   ]
  },
  {
   "cell_type": "code",
   "execution_count": 29,
   "id": "317c6373-97ca-4a82-9ee3-7ef1d3465432",
   "metadata": {
    "tags": []
   },
   "outputs": [
    {
     "data": {
      "text/plain": [
       "{1, 2, 3, 56}"
      ]
     },
     "execution_count": 29,
     "metadata": {},
     "output_type": "execute_result"
    }
   ],
   "source": [
    "a"
   ]
  },
  {
   "cell_type": "code",
   "execution_count": 30,
   "id": "64437ba6-2eed-4850-bcfa-8d59b1d16061",
   "metadata": {
    "tags": []
   },
   "outputs": [],
   "source": [
    "a.add(5)"
   ]
  },
  {
   "cell_type": "code",
   "execution_count": 31,
   "id": "6f5ad615-1854-4fdf-bef6-2a24e6927e8b",
   "metadata": {
    "tags": []
   },
   "outputs": [
    {
     "data": {
      "text/plain": [
       "{1, 2, 3, 5, 56}"
      ]
     },
     "execution_count": 31,
     "metadata": {},
     "output_type": "execute_result"
    }
   ],
   "source": [
    "a"
   ]
  },
  {
   "cell_type": "code",
   "execution_count": 36,
   "id": "88f33de2-3e94-453c-a21c-89afa092245a",
   "metadata": {
    "tags": []
   },
   "outputs": [
    {
     "ename": "KeyError",
     "evalue": "100",
     "output_type": "error",
     "traceback": [
      "\u001b[1;31m---------------------------------------------------------------------------\u001b[0m",
      "\u001b[1;31mKeyError\u001b[0m                                  Traceback (most recent call last)",
      "Cell \u001b[1;32mIn[36], line 1\u001b[0m\n\u001b[1;32m----> 1\u001b[0m a\u001b[38;5;241m.\u001b[39mremove(\u001b[38;5;241m100\u001b[39m)\n",
      "\u001b[1;31mKeyError\u001b[0m: 100"
     ]
    }
   ],
   "source": [
    "a.remove(100)"
   ]
  },
  {
   "cell_type": "code",
   "execution_count": 38,
   "id": "97b7070b-c303-43c6-9a61-00d4b653eaa3",
   "metadata": {
    "tags": []
   },
   "outputs": [],
   "source": [
    "a.discard(100)"
   ]
  },
  {
   "cell_type": "code",
   "execution_count": 39,
   "id": "72b622d4-76af-4efd-8b35-ef076d430e40",
   "metadata": {
    "tags": []
   },
   "outputs": [],
   "source": [
    "b.clear()"
   ]
  },
  {
   "cell_type": "code",
   "execution_count": 41,
   "id": "e8f18a5e-1ded-4d26-9f43-92710f0f79aa",
   "metadata": {
    "tags": []
   },
   "outputs": [
    {
     "data": {
      "text/plain": [
       "set()"
      ]
     },
     "execution_count": 41,
     "metadata": {},
     "output_type": "execute_result"
    }
   ],
   "source": [
    "b"
   ]
  },
  {
   "cell_type": "code",
   "execution_count": 42,
   "id": "4497d4f3-7d23-4f24-9964-b3d1def9827a",
   "metadata": {
    "tags": []
   },
   "outputs": [
    {
     "data": {
      "text/plain": [
       "{1, 6}"
      ]
     },
     "execution_count": 42,
     "metadata": {},
     "output_type": "execute_result"
    }
   ],
   "source": [
    "st.difference(st1)"
   ]
  },
  {
   "cell_type": "code",
   "execution_count": 43,
   "id": "9d5296a3-22d7-4fa5-9428-2672c787c98a",
   "metadata": {
    "tags": []
   },
   "outputs": [],
   "source": [
    "a = {1,2,3,4,5}\n",
    "b ={4,5,6,7,8}"
   ]
  },
  {
   "cell_type": "code",
   "execution_count": 44,
   "id": "31d6705b-15dd-40e4-a555-61d7596a536a",
   "metadata": {
    "tags": []
   },
   "outputs": [
    {
     "data": {
      "text/plain": [
       "{1, 2, 3}"
      ]
     },
     "execution_count": 44,
     "metadata": {},
     "output_type": "execute_result"
    }
   ],
   "source": [
    "a-b"
   ]
  },
  {
   "cell_type": "code",
   "execution_count": 45,
   "id": "905b3e00-eab3-4567-996e-c359d6bb0bbe",
   "metadata": {
    "tags": []
   },
   "outputs": [
    {
     "data": {
      "text/plain": [
       "{1, 2, 3}"
      ]
     },
     "execution_count": 45,
     "metadata": {},
     "output_type": "execute_result"
    }
   ],
   "source": [
    "a.difference(b)\n",
    "#difference_update"
   ]
  },
  {
   "cell_type": "code",
   "execution_count": 46,
   "id": "3fba2dc8-eaf9-4484-8d8e-27db8c60efa1",
   "metadata": {
    "tags": []
   },
   "outputs": [
    {
     "data": {
      "text/plain": [
       "{6, 7, 8}"
      ]
     },
     "execution_count": 46,
     "metadata": {},
     "output_type": "execute_result"
    }
   ],
   "source": [
    "b-a"
   ]
  },
  {
   "cell_type": "code",
   "execution_count": 47,
   "id": "bff634c8-641e-473b-97e2-444246f58f4c",
   "metadata": {
    "tags": []
   },
   "outputs": [
    {
     "data": {
      "text/plain": [
       "{1, 2, 3, 6, 7, 8}"
      ]
     },
     "execution_count": 47,
     "metadata": {},
     "output_type": "execute_result"
    }
   ],
   "source": [
    "a.symmetric_difference(b)\n",
    "#symmetric_difference_update"
   ]
  },
  {
   "cell_type": "code",
   "execution_count": 49,
   "id": "a7c6ecac-8289-4b32-9edb-cf84d20f84b2",
   "metadata": {
    "tags": []
   },
   "outputs": [],
   "source": [
    "a.symmetric_difference_update(b)"
   ]
  },
  {
   "cell_type": "code",
   "execution_count": 50,
   "id": "7a3d2b23-2c75-4701-aa1c-d7dfb36d494a",
   "metadata": {
    "tags": []
   },
   "outputs": [
    {
     "data": {
      "text/plain": [
       "{1, 2, 3, 6, 7, 8}"
      ]
     },
     "execution_count": 50,
     "metadata": {},
     "output_type": "execute_result"
    }
   ],
   "source": [
    "a"
   ]
  },
  {
   "cell_type": "code",
   "execution_count": 51,
   "id": "906167e1-584a-4293-9c17-4270f5898790",
   "metadata": {
    "tags": []
   },
   "outputs": [
    {
     "data": {
      "text/plain": [
       "1"
      ]
     },
     "execution_count": 51,
     "metadata": {},
     "output_type": "execute_result"
    }
   ],
   "source": [
    "a.pop()"
   ]
  },
  {
   "cell_type": "code",
   "execution_count": 52,
   "id": "1ded8c50-6027-464a-82e7-fd6593cb8ff8",
   "metadata": {
    "tags": []
   },
   "outputs": [
    {
     "data": {
      "text/plain": [
       "{2, 3, 6, 7, 8}"
      ]
     },
     "execution_count": 52,
     "metadata": {},
     "output_type": "execute_result"
    }
   ],
   "source": [
    "a"
   ]
  },
  {
   "cell_type": "code",
   "execution_count": 60,
   "id": "93f33715-1b14-402e-97aa-d8bf6a071f6c",
   "metadata": {
    "tags": []
   },
   "outputs": [],
   "source": [
    "b = frozenset(b)"
   ]
  },
  {
   "cell_type": "code",
   "execution_count": 61,
   "id": "3a348ff5-270f-4f0e-88a2-eb6265409989",
   "metadata": {
    "tags": []
   },
   "outputs": [
    {
     "ename": "AttributeError",
     "evalue": "'frozenset' object has no attribute 'add'",
     "output_type": "error",
     "traceback": [
      "\u001b[1;31m---------------------------------------------------------------------------\u001b[0m",
      "\u001b[1;31mAttributeError\u001b[0m                            Traceback (most recent call last)",
      "Cell \u001b[1;32mIn[61], line 1\u001b[0m\n\u001b[1;32m----> 1\u001b[0m b\u001b[38;5;241m.\u001b[39madd(\u001b[38;5;241m65\u001b[39m)\n",
      "\u001b[1;31mAttributeError\u001b[0m: 'frozenset' object has no attribute 'add'"
     ]
    }
   ],
   "source": [
    "b.add(65)"
   ]
  },
  {
   "cell_type": "code",
   "execution_count": null,
   "id": "8acb2ccb-173c-4a86-8308-fb8a3c9aae17",
   "metadata": {},
   "outputs": [],
   "source": []
  }
 ],
 "metadata": {
  "kernelspec": {
   "display_name": "Python 3 (ipykernel)",
   "language": "python",
   "name": "python3"
  },
  "language_info": {
   "codemirror_mode": {
    "name": "ipython",
    "version": 3
   },
   "file_extension": ".py",
   "mimetype": "text/x-python",
   "name": "python",
   "nbconvert_exporter": "python",
   "pygments_lexer": "ipython3",
   "version": "3.11.5"
  }
 },
 "nbformat": 4,
 "nbformat_minor": 5
}
