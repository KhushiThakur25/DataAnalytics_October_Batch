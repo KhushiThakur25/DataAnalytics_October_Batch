{
 "cells": [
  {
   "cell_type": "code",
   "execution_count": 1,
   "id": "968d1770-8335-47e7-a9a1-bec9843979f3",
   "metadata": {
    "tags": []
   },
   "outputs": [],
   "source": [
    "#Functions\n"
   ]
  },
  {
   "cell_type": "code",
   "execution_count": 11,
   "id": "b5ae172f-fe87-48a8-b1d5-ff1e263c3425",
   "metadata": {
    "tags": []
   },
   "outputs": [],
   "source": [
    "def add():\n",
    "    \n",
    "    print(\"Hello, I'm add\")\n",
    "    return \"add\"\n",
    "    "
   ]
  },
  {
   "cell_type": "code",
   "execution_count": 12,
   "id": "d6e56722-6aa4-4a6d-875a-8cea0292c029",
   "metadata": {
    "tags": []
   },
   "outputs": [
    {
     "name": "stdout",
     "output_type": "stream",
     "text": [
      "Hello, I'm add\n",
      "add\n"
     ]
    }
   ],
   "source": [
    "print(add())"
   ]
  },
  {
   "cell_type": "code",
   "execution_count": 13,
   "id": "82c411ac-9fc2-45b9-96b4-db0216526c42",
   "metadata": {
    "tags": []
   },
   "outputs": [],
   "source": [
    "def add(a,b):\n",
    "    return a+b\n",
    "def sub(a,b):\n",
    "    return a-b\n",
    "def div(a,b):\n",
    "    return a/b\n",
    "def mul(a,b):\n",
    "    return a*b\n",
    "    "
   ]
  },
  {
   "cell_type": "code",
   "execution_count": 17,
   "id": "52288fef-68cf-434e-8321-5ff47af9c06b",
   "metadata": {
    "tags": []
   },
   "outputs": [
    {
     "name": "stdin",
     "output_type": "stream",
     "text": [
      "Enter the value of a 8\n",
      "Enter the value of b 6\n",
      "Enter operator to perform:\n",
      "addition : +\n",
      "subtract : -\n",
      "multiply : *\n",
      "Division : /\n",
      " -\n"
     ]
    },
    {
     "name": "stdout",
     "output_type": "stream",
     "text": [
      "Your subtraction is:\n",
      "2\n"
     ]
    }
   ],
   "source": [
    "a = int(input(\"Enter the value of a\"))\n",
    "b = int(input(\"Enter the value of b\"))\n",
    "\n",
    "ch = input(\"\"\"Enter operator to perform:\n",
    "addition : +\n",
    "subtract : -\n",
    "multiply : *\n",
    "Division : /\n",
    "\"\"\")\n",
    "\n",
    "print()\n",
    "if ch == \"+\":\n",
    "    print(\"Your addition is:\")\n",
    "    print(add(a,b))\n",
    "    \n",
    "elif ch == \"*\":\n",
    "    print(\"Your multiplication is:\")\n",
    "    print(mul(a,b))\n",
    "elif ch == \"-\":\n",
    "    print(\"Your subtraction is:\")\n",
    "    print(sub(a,b))\n",
    "    \n",
    "elif ch == \"/\":\n",
    "    print(\"Your division is:\")\n",
    "    print(div(a,b))\n",
    "else:\n",
    "    print(\"Invalid choice..\")"
   ]
  },
  {
   "cell_type": "code",
   "execution_count": 4,
   "id": "5d1ce09c-22ef-4984-a0db-ba782bd67c73",
   "metadata": {},
   "outputs": [
    {
     "name": "stdout",
     "output_type": "stream",
     "text": [
      "2 3 5\n"
     ]
    }
   ],
   "source": [
    "#positional arguments\n",
    "def calc(x,y,z):\n",
    "    print(x,y,z)\n",
    "calc(2,3,5)"
   ]
  },
  {
   "cell_type": "code",
   "execution_count": 6,
   "id": "4b20275e-eb88-43f7-94f4-6e03575f76e2",
   "metadata": {
    "tags": []
   },
   "outputs": [
    {
     "name": "stdout",
     "output_type": "stream",
     "text": [
      "6 5 2\n"
     ]
    }
   ],
   "source": [
    "#keywords arguments\n",
    "def calc(a,b,c):\n",
    "    print(a,b,c)\n",
    "calc(b = 5,a = 6,c = 2)"
   ]
  },
  {
   "cell_type": "code",
   "execution_count": 9,
   "id": "510051a4-cbd2-4e03-b519-1fd939ffbc21",
   "metadata": {
    "tags": []
   },
   "outputs": [
    {
     "name": "stdout",
     "output_type": "stream",
     "text": [
      "2 5 9\n"
     ]
    }
   ],
   "source": [
    "#default arguments\n",
    "def calc(a = 2,b = 5,c = 9):\n",
    "    print(a,b,c)\n",
    "calc()"
   ]
  },
  {
   "cell_type": "code",
   "execution_count": 11,
   "id": "adb1dec4-724d-4aa7-9a79-cd33d22eb8f4",
   "metadata": {
    "tags": []
   },
   "outputs": [
    {
     "name": "stdout",
     "output_type": "stream",
     "text": [
      "186\n"
     ]
    }
   ],
   "source": [
    "#arbitrary ags\n",
    "def calc(*args):\n",
    "    print(sum(args))\n",
    "    \n",
    "calc(2,5,6,89,5,46,1,32)"
   ]
  },
  {
   "cell_type": "code",
   "execution_count": 13,
   "id": "3ac7b913-73b9-44dd-bc74-ed16c9121cc0",
   "metadata": {
    "tags": []
   },
   "outputs": [
    {
     "name": "stdout",
     "output_type": "stream",
     "text": [
      "{'name': 'Riya', 'rollno': 23, 'marks': 45}\n"
     ]
    }
   ],
   "source": [
    "def calc(**kwargs):\n",
    "    print(kwargs)\n",
    "calc(name=\"Riya\",rollno=23,marks=45)"
   ]
  },
  {
   "cell_type": "code",
   "execution_count": 26,
   "id": "8215d10e-4240-4724-aa35-359263f5b5f7",
   "metadata": {
    "tags": []
   },
   "outputs": [
    {
     "data": {
      "text/plain": [
       "111.78125"
      ]
     },
     "execution_count": 26,
     "metadata": {},
     "output_type": "execute_result"
    }
   ],
   "source": [
    "\n",
    "#predefined functions\n",
    "a = eval(\"56+85*21/32\")\n",
    "a"
   ]
  },
  {
   "cell_type": "code",
   "execution_count": 19,
   "id": "5b97f83e-ad6b-4870-a801-7971cc6a981b",
   "metadata": {
    "tags": []
   },
   "outputs": [],
   "source": [
    "exec(\"b = 56+85*21/32\")"
   ]
  },
  {
   "cell_type": "code",
   "execution_count": 20,
   "id": "2cbf389b-d67d-4ba7-ad87-284282ceb9c1",
   "metadata": {
    "tags": []
   },
   "outputs": [
    {
     "data": {
      "text/plain": [
       "111.78125"
      ]
     },
     "execution_count": 20,
     "metadata": {},
     "output_type": "execute_result"
    }
   ],
   "source": [
    "b"
   ]
  },
  {
   "cell_type": "code",
   "execution_count": 22,
   "id": "abfe9d19-d0ce-4455-a438-7d9bc369dd32",
   "metadata": {
    "tags": []
   },
   "outputs": [],
   "source": [
    "exec(\"a=5\")"
   ]
  },
  {
   "cell_type": "code",
   "execution_count": 23,
   "id": "d3dfce31-0958-465f-996e-6b3f379e6ed4",
   "metadata": {
    "tags": []
   },
   "outputs": [
    {
     "data": {
      "text/plain": [
       "5"
      ]
     },
     "execution_count": 23,
     "metadata": {},
     "output_type": "execute_result"
    }
   ],
   "source": [
    "a"
   ]
  },
  {
   "cell_type": "code",
   "execution_count": 32,
   "id": "c124d947-92aa-410a-83f4-b9b9738de1ae",
   "metadata": {
    "tags": []
   },
   "outputs": [],
   "source": [
    "#map,filter\n",
    "def convert(c):\n",
    "    return 9/5*c+32\n",
    "def convert_m(m):\n",
    "    return m/1000\n",
    "temp =[23,89,54,65,41,56,74]\n",
    "m = [52,41,62,4,2,13,56]\n",
    "# f =[]\n",
    "# k = []\n",
    "# for i in temp:\n",
    "#     f.append(convert(i))\n",
    "    \n",
    "# for i in m:\n",
    "#     k.append(convert_m(i))"
   ]
  },
  {
   "cell_type": "code",
   "execution_count": 40,
   "id": "0ae7a69f-f7bc-4811-be35-7be7ff0cb318",
   "metadata": {
    "tags": []
   },
   "outputs": [
    {
     "data": {
      "text/plain": [
       "[73.4, 192.20000000000002, 129.2, 149.0, 105.8, 132.8, 165.20000000000002]"
      ]
     },
     "execution_count": 40,
     "metadata": {},
     "output_type": "execute_result"
    }
   ],
   "source": [
    "list(map(convert,temp))"
   ]
  },
  {
   "cell_type": "code",
   "execution_count": 44,
   "id": "f1a6abdc-c978-4ad2-b5b4-b97d84531538",
   "metadata": {
    "tags": []
   },
   "outputs": [
    {
     "data": {
      "text/plain": [
       "[52, 62, 4, 2, 56]"
      ]
     },
     "execution_count": 44,
     "metadata": {},
     "output_type": "execute_result"
    }
   ],
   "source": [
    "def even(i):\n",
    "    return i%2 == 0\n",
    "def odd(i):\n",
    "    return i%2 != 0\n",
    "# e = []\n",
    "# o = []\n",
    "# for i in m:\n",
    "#     if even(i):\n",
    "#         e.append(i)\n",
    "#     elif odd(i):\n",
    "#         o.append(i)\n",
    "#     else:\n",
    "#         print(\"Invalid value..\")\n",
    "list(filter(even,m))"
   ]
  },
  {
   "cell_type": "code",
   "execution_count": 45,
   "id": "9fe8c98b-0f86-4766-95d6-41d221d93b20",
   "metadata": {
    "tags": []
   },
   "outputs": [
    {
     "data": {
      "text/plain": [
       "[41, 13]"
      ]
     },
     "execution_count": 45,
     "metadata": {},
     "output_type": "execute_result"
    }
   ],
   "source": [
    "list(filter(odd,m))"
   ]
  },
  {
   "cell_type": "code",
   "execution_count": null,
   "id": "b47eb229-75ab-4576-8807-a7e6ba1b57ff",
   "metadata": {
    "tags": []
   },
   "outputs": [],
   "source": []
  },
  {
   "cell_type": "code",
   "execution_count": null,
   "id": "d8bfdc05-1564-4222-bd61-98a9fdc1f706",
   "metadata": {},
   "outputs": [],
   "source": []
  }
 ],
 "metadata": {
  "kernelspec": {
   "display_name": "Python 3 (ipykernel)",
   "language": "python",
   "name": "python3"
  },
  "language_info": {
   "codemirror_mode": {
    "name": "ipython",
    "version": 3
   },
   "file_extension": ".py",
   "mimetype": "text/x-python",
   "name": "python",
   "nbconvert_exporter": "python",
   "pygments_lexer": "ipython3",
   "version": "3.11.5"
  }
 },
 "nbformat": 4,
 "nbformat_minor": 5
}
