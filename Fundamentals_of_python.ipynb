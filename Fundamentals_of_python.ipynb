{
 "cells": [
  {
   "cell_type": "code",
   "execution_count": 1,
   "id": "97ca3687-de81-41df-a859-eab49e078a2f",
   "metadata": {
    "tags": []
   },
   "outputs": [
    {
     "name": "stdout",
     "output_type": "stream",
     "text": [
      "Hello world\n"
     ]
    }
   ],
   "source": [
    "print(\"Hello world\")"
   ]
  },
  {
   "cell_type": "code",
   "execution_count": 2,
   "id": "146160bd-47dc-42c0-8426-b7b139320e5d",
   "metadata": {
    "tags": []
   },
   "outputs": [],
   "source": [
    "a = 5\n",
    "b = 3"
   ]
  },
  {
   "cell_type": "code",
   "execution_count": 3,
   "id": "9f3d7c73-70a4-4a58-8f34-8139a01fc934",
   "metadata": {
    "tags": []
   },
   "outputs": [
    {
     "data": {
      "text/plain": [
       "['False',\n",
       " 'None',\n",
       " 'True',\n",
       " 'and',\n",
       " 'as',\n",
       " 'assert',\n",
       " 'async',\n",
       " 'await',\n",
       " 'break',\n",
       " 'class',\n",
       " 'continue',\n",
       " 'def',\n",
       " 'del',\n",
       " 'elif',\n",
       " 'else',\n",
       " 'except',\n",
       " 'finally',\n",
       " 'for',\n",
       " 'from',\n",
       " 'global',\n",
       " 'if',\n",
       " 'import',\n",
       " 'in',\n",
       " 'is',\n",
       " 'lambda',\n",
       " 'nonlocal',\n",
       " 'not',\n",
       " 'or',\n",
       " 'pass',\n",
       " 'raise',\n",
       " 'return',\n",
       " 'try',\n",
       " 'while',\n",
       " 'with',\n",
       " 'yield']"
      ]
     },
     "execution_count": 3,
     "metadata": {},
     "output_type": "execute_result"
    }
   ],
   "source": [
    "#container = variables\n",
    "\n",
    "import keyword\n",
    "\n",
    "keyword.kwlist"
   ]
  },
  {
   "cell_type": "code",
   "execution_count": 8,
   "id": "f8d16c7d-d2c9-40c9-94aa-841c6de4cd79",
   "metadata": {
    "tags": []
   },
   "outputs": [],
   "source": [
    "_name2121 = \"Amit\""
   ]
  },
  {
   "cell_type": "code",
   "execution_count": 12,
   "id": "78e4c95c-81fe-465d-a9d9-fb78bfb4c569",
   "metadata": {
    "tags": []
   },
   "outputs": [],
   "source": [
    "name = \"Riya\"\n",
    "# Name = \"Aman\""
   ]
  },
  {
   "cell_type": "code",
   "execution_count": 13,
   "id": "71109d25-a578-4904-82ac-d563e165b156",
   "metadata": {
    "tags": []
   },
   "outputs": [
    {
     "data": {
      "text/plain": [
       "'Riya'"
      ]
     },
     "execution_count": 13,
     "metadata": {},
     "output_type": "execute_result"
    }
   ],
   "source": [
    "name\n"
   ]
  },
  {
   "cell_type": "code",
   "execution_count": 15,
   "id": "f9e6b6f8-24f1-445f-9083-b38d68e6ebf6",
   "metadata": {
    "tags": []
   },
   "outputs": [],
   "source": [
    "Name1 = 3255\n"
   ]
  },
  {
   "cell_type": "code",
   "execution_count": 16,
   "id": "f62c25bb-e604-4ff3-ab8d-7ff88d578434",
   "metadata": {
    "tags": []
   },
   "outputs": [
    {
     "ename": "NameError",
     "evalue": "name 'name1' is not defined",
     "output_type": "error",
     "traceback": [
      "\u001b[1;31m---------------------------------------------------------------------------\u001b[0m",
      "\u001b[1;31mNameError\u001b[0m                                 Traceback (most recent call last)",
      "Cell \u001b[1;32mIn[16], line 1\u001b[0m\n\u001b[1;32m----> 1\u001b[0m name1\n",
      "\u001b[1;31mNameError\u001b[0m: name 'name1' is not defined"
     ]
    }
   ],
   "source": [
    "name1"
   ]
  },
  {
   "cell_type": "code",
   "execution_count": 18,
   "id": "758e11e4-3343-4930-bb60-a9d6ecce2ac2",
   "metadata": {
    "tags": []
   },
   "outputs": [
    {
     "data": {
      "text/plain": [
       "3255"
      ]
     },
     "execution_count": 18,
     "metadata": {},
     "output_type": "execute_result"
    }
   ],
   "source": [
    "Name1"
   ]
  },
  {
   "cell_type": "code",
   "execution_count": 19,
   "id": "e64f4d8a-3548-47f5-82f4-f75f60893617",
   "metadata": {
    "tags": []
   },
   "outputs": [],
   "source": [
    "import sys\n",
    "n = 0.0\n"
   ]
  },
  {
   "cell_type": "code",
   "execution_count": 20,
   "id": "6d612550-6d76-4b1e-b397-19f9c21377dd",
   "metadata": {
    "tags": []
   },
   "outputs": [
    {
     "data": {
      "text/plain": [
       "float"
      ]
     },
     "execution_count": 20,
     "metadata": {},
     "output_type": "execute_result"
    }
   ],
   "source": [
    "type(n)"
   ]
  },
  {
   "cell_type": "code",
   "execution_count": 21,
   "id": "58a611a7-67c3-4d7a-8f82-f2b081bf3ea2",
   "metadata": {
    "tags": []
   },
   "outputs": [
    {
     "data": {
      "text/plain": [
       "24"
      ]
     },
     "execution_count": 21,
     "metadata": {},
     "output_type": "execute_result"
    }
   ],
   "source": [
    "sys.getsizeof(n)"
   ]
  },
  {
   "cell_type": "code",
   "execution_count": 22,
   "id": "306f3880-8f70-485a-9bc7-ea071b025bb2",
   "metadata": {
    "tags": []
   },
   "outputs": [],
   "source": [
    "n = 2656.21662665564"
   ]
  },
  {
   "cell_type": "code",
   "execution_count": 23,
   "id": "4d21fc50-9fea-4936-85e3-705df48544a0",
   "metadata": {
    "tags": []
   },
   "outputs": [
    {
     "data": {
      "text/plain": [
       "float"
      ]
     },
     "execution_count": 23,
     "metadata": {},
     "output_type": "execute_result"
    }
   ],
   "source": [
    "type(n)"
   ]
  },
  {
   "cell_type": "code",
   "execution_count": 24,
   "id": "df2b3b76-71c5-4c06-9078-cde8f9affa71",
   "metadata": {
    "tags": []
   },
   "outputs": [
    {
     "data": {
      "text/plain": [
       "24"
      ]
     },
     "execution_count": 24,
     "metadata": {},
     "output_type": "execute_result"
    }
   ],
   "source": [
    "sys.getsizeof(n)"
   ]
  },
  {
   "cell_type": "code",
   "execution_count": 25,
   "id": "f86ff5fd-e6c4-4c87-af72-c7850ed96668",
   "metadata": {
    "tags": []
   },
   "outputs": [
    {
     "ename": "TypeError",
     "evalue": "object of type 'float' has no len()",
     "output_type": "error",
     "traceback": [
      "\u001b[1;31m---------------------------------------------------------------------------\u001b[0m",
      "\u001b[1;31mTypeError\u001b[0m                                 Traceback (most recent call last)",
      "Cell \u001b[1;32mIn[25], line 1\u001b[0m\n\u001b[1;32m----> 1\u001b[0m \u001b[38;5;28mlen\u001b[39m(n)\n",
      "\u001b[1;31mTypeError\u001b[0m: object of type 'float' has no len()"
     ]
    }
   ],
   "source": [
    "len(n)"
   ]
  },
  {
   "cell_type": "code",
   "execution_count": 26,
   "id": "dd202ef8-a7d1-462b-afa1-bc3e040887ee",
   "metadata": {
    "tags": []
   },
   "outputs": [
    {
     "data": {
      "text/plain": [
       "3.3333333333333335"
      ]
     },
     "execution_count": 26,
     "metadata": {},
     "output_type": "execute_result"
    }
   ],
   "source": [
    "10/3"
   ]
  },
  {
   "cell_type": "code",
   "execution_count": 1,
   "id": "7500afd6-33f8-49cb-8928-ed5978a6a0ee",
   "metadata": {},
   "outputs": [
    {
     "name": "stdout",
     "output_type": "stream",
     "text": [
      "Hello world!\n"
     ]
    }
   ],
   "source": [
    "#Printing\n",
    "\n",
    "print(\"Hello world!\")"
   ]
  },
  {
   "cell_type": "code",
   "execution_count": 4,
   "id": "497bf1b8-249a-4caa-9ed7-2b6258987894",
   "metadata": {
    "tags": []
   },
   "outputs": [
    {
     "name": "stdout",
     "output_type": "stream",
     "text": [
      "Sum of a and b is: 88\n"
     ]
    }
   ],
   "source": [
    "a = 56\n",
    "b = 32\n",
    "print(\"Sum of a and b is:\",a+b)"
   ]
  },
  {
   "cell_type": "code",
   "execution_count": 6,
   "id": "04d7e3e3-2fea-4713-b9e3-d98833c67008",
   "metadata": {
    "tags": []
   },
   "outputs": [
    {
     "name": "stdout",
     "output_type": "stream",
     "text": [
      "Sum of 56 and 32 is: 88\n"
     ]
    }
   ],
   "source": [
    "print(\"Sum of\",a,\"and\",b,\"is:\",a+b)"
   ]
  },
  {
   "cell_type": "code",
   "execution_count": 7,
   "id": "551a33ac-d52d-44a8-b335-2f7b338b61e0",
   "metadata": {
    "tags": []
   },
   "outputs": [
    {
     "name": "stdout",
     "output_type": "stream",
     "text": [
      "sum of 56 and 32 is: 88\n"
     ]
    }
   ],
   "source": [
    "print(\"sum of %d and %d is: %d\"%(a,b,a+b))"
   ]
  },
  {
   "cell_type": "code",
   "execution_count": 10,
   "id": "caaaa52d-8f88-4e3b-bd3c-06ef9a4dc855",
   "metadata": {
    "tags": []
   },
   "outputs": [
    {
     "name": "stdout",
     "output_type": "stream",
     "text": [
      "Div of 56 and 32 is: 1.750000\n"
     ]
    }
   ],
   "source": [
    "print(\"Div of %d and %d is: %f\"%(a,b,a/b))"
   ]
  },
  {
   "cell_type": "code",
   "execution_count": 9,
   "id": "bf123ae0-931c-4b50-8c62-a521ffac4067",
   "metadata": {
    "tags": []
   },
   "outputs": [
    {
     "data": {
      "text/plain": [
       "1.75"
      ]
     },
     "execution_count": 9,
     "metadata": {},
     "output_type": "execute_result"
    }
   ],
   "source": [
    "56/32"
   ]
  },
  {
   "cell_type": "code",
   "execution_count": 14,
   "id": "82f36beb-a6ae-45aa-8fc5-58bad8c541a5",
   "metadata": {
    "tags": []
   },
   "outputs": [
    {
     "name": "stdout",
     "output_type": "stream",
     "text": [
      "Div of 56 and 32 is: 1.75\n"
     ]
    }
   ],
   "source": [
    "print(\"Div of {} and {} is: {}\".format(a,b,a/b))"
   ]
  },
  {
   "cell_type": "code",
   "execution_count": 13,
   "id": "1d811b49-680a-471e-a6ce-e9febdeaf3f5",
   "metadata": {
    "tags": []
   },
   "outputs": [
    {
     "data": {
      "text/plain": [
       "0.5714285714285714"
      ]
     },
     "execution_count": 13,
     "metadata": {},
     "output_type": "execute_result"
    }
   ],
   "source": [
    "32/56\n"
   ]
  },
  {
   "cell_type": "code",
   "execution_count": 16,
   "id": "79e890ea-d627-44a0-8559-936730297091",
   "metadata": {
    "tags": []
   },
   "outputs": [
    {
     "name": "stdout",
     "output_type": "stream",
     "text": [
      "Div of 56 and 32 is : 1.75\n"
     ]
    }
   ],
   "source": [
    "print(f\"Div of {a} and {b} is : {a/b}\")"
   ]
  },
  {
   "cell_type": "code",
   "execution_count": 24,
   "id": "a9755e0e-ae47-4cad-aa94-541f7325c5f1",
   "metadata": {
    "tags": []
   },
   "outputs": [
    {
     "data": {
      "text/plain": [
       "3136"
      ]
     },
     "execution_count": 24,
     "metadata": {},
     "output_type": "execute_result"
    }
   ],
   "source": [
    "#Arithmetic operator\n",
    "# 1.Addition -> +\n",
    "# 2.subtraction -> -\n",
    "# 3.multiplication -> *\n",
    "# 4.division(float) -> /\n",
    "# 5.floor division -> //(int)\n",
    "# 6.modulus -> %\n",
    "# 7.exponent -> **\n",
    "a+b\n",
    "a-b\n",
    "a*b\n",
    "a/b\n",
    "a//b\n",
    "a%b\n",
    "a**2"
   ]
  },
  {
   "cell_type": "code",
   "execution_count": 31,
   "id": "537507fa-ba90-4d1d-8ce0-660ab6e3d1cf",
   "metadata": {
    "tags": []
   },
   "outputs": [
    {
     "data": {
      "text/plain": [
       "True"
      ]
     },
     "execution_count": 31,
     "metadata": {},
     "output_type": "execute_result"
    }
   ],
   "source": [
    "#relational or comparison operator\n",
    "# 1. lesser than -> <\n",
    "# 2. greater than -> >\n",
    "# 3. lesser than or equals to -> <=\n",
    "# 4. greater than or equals to -> >=\n",
    "# 5. equal to -> ==\n",
    "# 6. not equal to -> !=\n",
    "\n",
    "a<b\n",
    "a>b\n",
    "a<=b\n",
    "a>=b\n",
    "a==b\n",
    "a!=b"
   ]
  },
  {
   "cell_type": "code",
   "execution_count": 34,
   "id": "aa963e72-22be-42c9-a523-07b85ea5ed94",
   "metadata": {
    "tags": []
   },
   "outputs": [
    {
     "data": {
      "text/plain": [
       "True"
      ]
     },
     "execution_count": 34,
     "metadata": {},
     "output_type": "execute_result"
    }
   ],
   "source": [
    "#logical operator(they uses the boolean value) -> true , false\n",
    "# 1. logical AND -> and (if both operands are true,then it will give true)\n",
    "# 2. logical OR -> or (if any operand has true or both ,then it will give true)\n",
    "# 3. logical NOR -> not (it inverts the value)\n",
    "x = True\n",
    "y = False\n",
    "\n",
    "x and y\n",
    "x or y\n",
    "not y"
   ]
  },
  {
   "cell_type": "code",
   "execution_count": 37,
   "id": "7c9a1909-d886-4bba-8969-d83d245d0007",
   "metadata": {
    "tags": []
   },
   "outputs": [
    {
     "data": {
      "text/plain": [
       "False"
      ]
     },
     "execution_count": 37,
     "metadata": {},
     "output_type": "execute_result"
    }
   ],
   "source": [
    "# membership operator\n",
    "# 1. in\n",
    "# 2. not in\n",
    "st = \"hello python world!\"\n",
    "'py' not in st"
   ]
  },
  {
   "cell_type": "code",
   "execution_count": 39,
   "id": "a67702da-b975-4e20-87fd-d1d9b453ade4",
   "metadata": {
    "tags": []
   },
   "outputs": [
    {
     "data": {
      "text/plain": [
       "False"
      ]
     },
     "execution_count": 39,
     "metadata": {},
     "output_type": "execute_result"
    }
   ],
   "source": [
    "# identity operator\n",
    "# 1. is\n",
    "# 2. not is\n",
    "\n",
    "a = 5\n",
    "b = 6\n",
    "\n",
    "a is b"
   ]
  },
  {
   "cell_type": "code",
   "execution_count": 40,
   "id": "e2db37b0-86ef-4156-be57-e24ef3255a36",
   "metadata": {
    "tags": []
   },
   "outputs": [],
   "source": [
    "l = [1,2,34,5]\n",
    "m = l.copy()"
   ]
  },
  {
   "cell_type": "code",
   "execution_count": 41,
   "id": "8e1dcab6-4516-4155-b15c-069baa76cad2",
   "metadata": {
    "tags": []
   },
   "outputs": [
    {
     "data": {
      "text/plain": [
       "[1, 2, 34, 5]"
      ]
     },
     "execution_count": 41,
     "metadata": {},
     "output_type": "execute_result"
    }
   ],
   "source": [
    "m"
   ]
  },
  {
   "cell_type": "code",
   "execution_count": 42,
   "id": "3af3904f-57f5-4c6a-a3fd-701f03a16193",
   "metadata": {
    "tags": []
   },
   "outputs": [
    {
     "data": {
      "text/plain": [
       "False"
      ]
     },
     "execution_count": 42,
     "metadata": {},
     "output_type": "execute_result"
    }
   ],
   "source": [
    "l is m"
   ]
  },
  {
   "cell_type": "code",
   "execution_count": 43,
   "id": "92affd7f-761c-4db4-9bc0-8d91d93170cf",
   "metadata": {
    "tags": []
   },
   "outputs": [
    {
     "data": {
      "text/plain": [
       "2"
      ]
     },
     "execution_count": 43,
     "metadata": {},
     "output_type": "execute_result"
    }
   ],
   "source": [
    "# Bitwise operator\n",
    "# 1. bitwise AND -> & (if both bits are 1 then it will give 1)\n",
    "# 2. bitwise OR -> | (if any or both bits true then it gives 1)\n",
    "# 3. bitwise Xor -> ^ (when both bits are different then it gives 1)\n",
    "# 4. bitwise Nor/Not -> ~ (1's(Nature) and 2's compliment(Value))\n",
    "# 5. Left shift -> << (shift bits by 1 in each step )\n",
    "# 6. Right shift -> >>\n",
    "\n",
    "10 & 6\n"
   ]
  },
  {
   "cell_type": "code",
   "execution_count": 44,
   "id": "32e36d78-6f57-461a-a2d8-8f484f9dadab",
   "metadata": {
    "tags": []
   },
   "outputs": [
    {
     "data": {
      "text/plain": [
       "14"
      ]
     },
     "execution_count": 44,
     "metadata": {},
     "output_type": "execute_result"
    }
   ],
   "source": [
    "10 | 6"
   ]
  },
  {
   "cell_type": "code",
   "execution_count": 45,
   "id": "9d6d0c1f-590a-4653-a954-70dc17ae50d9",
   "metadata": {
    "tags": []
   },
   "outputs": [
    {
     "data": {
      "text/plain": [
       "12"
      ]
     },
     "execution_count": 45,
     "metadata": {},
     "output_type": "execute_result"
    }
   ],
   "source": [
    "10 ^ 6"
   ]
  },
  {
   "cell_type": "code",
   "execution_count": 1,
   "id": "060dc949-c11c-40fe-8726-c7bf5a5c7a6d",
   "metadata": {},
   "outputs": [],
   "source": [
    "# 10 - 0000 1010\n",
    "# 0 = positive\n",
    "# 1 = negative\n",
    "# 1's compliment\n",
    "# 1 1 1 1 0 1 0 1\n",
    "\n",
    "# number would be negative\n",
    "\n",
    "# 2's compliment\n",
    "# 0000 1010\n",
    "#        +1\n",
    "# ----------\n",
    "# 0000 1011\n",
    "# ----------\n",
    "# 8 + 2 + 1\n",
    "# 2^3 2^2 2^1 2^0\n",
    "# 8  + 0 + 2 + 1\n",
    "# =11"
   ]
  },
  {
   "cell_type": "code",
   "execution_count": 2,
   "id": "f33b3e78-b37c-4044-958f-9348ab874b52",
   "metadata": {
    "tags": []
   },
   "outputs": [
    {
     "data": {
      "text/plain": [
       "-11"
      ]
     },
     "execution_count": 2,
     "metadata": {},
     "output_type": "execute_result"
    }
   ],
   "source": [
    "~10"
   ]
  },
  {
   "cell_type": "code",
   "execution_count": 3,
   "id": "fea27284-83ac-46f1-ab8c-c1162e61fca2",
   "metadata": {
    "tags": []
   },
   "outputs": [
    {
     "data": {
      "text/plain": [
       "40"
      ]
     },
     "execution_count": 3,
     "metadata": {},
     "output_type": "execute_result"
    }
   ],
   "source": [
    "10 << 2"
   ]
  },
  {
   "cell_type": "code",
   "execution_count": 4,
   "id": "f1c95f16-3423-4a7f-a7b1-41a4b15ea487",
   "metadata": {
    "tags": []
   },
   "outputs": [
    {
     "data": {
      "text/plain": [
       "2"
      ]
     },
     "execution_count": 4,
     "metadata": {},
     "output_type": "execute_result"
    }
   ],
   "source": [
    "10 >> 2"
   ]
  },
  {
   "cell_type": "code",
   "execution_count": 5,
   "id": "f42a1237-32c9-4da3-81ab-624609960c97",
   "metadata": {
    "tags": []
   },
   "outputs": [
    {
     "data": {
      "text/plain": [
       "67"
      ]
     },
     "execution_count": 5,
     "metadata": {},
     "output_type": "execute_result"
    }
   ],
   "source": [
    "# Assignment operators\n",
    "# 1.Addition -> +=\n",
    "# 2.subtraction -> -=\n",
    "# 3.multiplication -> *=\n",
    "# 4.division(float) -> /=\n",
    "# 5.floor division -> //(int)=\n",
    "# 6.modulus -> %=\n",
    "# 7.exponent -> **=\n",
    "\n",
    "a = 5\n",
    "b = 2\n",
    "\n",
    "a+62\n"
   ]
  },
  {
   "cell_type": "code",
   "execution_count": 7,
   "id": "eba8fe9c-3420-47d0-84dc-a78225773d2c",
   "metadata": {
    "tags": []
   },
   "outputs": [
    {
     "data": {
      "text/plain": [
       "int"
      ]
     },
     "execution_count": 7,
     "metadata": {},
     "output_type": "execute_result"
    }
   ],
   "source": [
    "type(a)"
   ]
  },
  {
   "cell_type": "code",
   "execution_count": 8,
   "id": "53dfaffe-a661-4c9f-8603-c4bde7148c1a",
   "metadata": {
    "tags": []
   },
   "outputs": [],
   "source": [
    "# data types are of two types:\n",
    "#     immutable\n",
    "#     mutable"
   ]
  },
  {
   "cell_type": "code",
   "execution_count": 9,
   "id": "d1fcfcbe-9c95-41cc-a6f3-918e9cef5f60",
   "metadata": {
    "tags": []
   },
   "outputs": [],
   "source": [
    "a = a + 2"
   ]
  },
  {
   "cell_type": "code",
   "execution_count": 10,
   "id": "d2f9de85-3483-44db-acd8-69b958149719",
   "metadata": {
    "tags": []
   },
   "outputs": [
    {
     "data": {
      "text/plain": [
       "7"
      ]
     },
     "execution_count": 10,
     "metadata": {},
     "output_type": "execute_result"
    }
   ],
   "source": [
    "a"
   ]
  },
  {
   "cell_type": "code",
   "execution_count": 11,
   "id": "24d462eb-336e-4fb8-b876-4db1ad25b214",
   "metadata": {
    "tags": []
   },
   "outputs": [],
   "source": [
    "a += 2"
   ]
  },
  {
   "cell_type": "code",
   "execution_count": 12,
   "id": "88ca28e2-d6d7-4c4d-a8a7-d89f120023ff",
   "metadata": {
    "tags": []
   },
   "outputs": [
    {
     "data": {
      "text/plain": [
       "9"
      ]
     },
     "execution_count": 12,
     "metadata": {},
     "output_type": "execute_result"
    }
   ],
   "source": [
    "a"
   ]
  },
  {
   "cell_type": "code",
   "execution_count": 13,
   "id": "bb453d14-b9e0-447d-9a1d-c32ef38a9091",
   "metadata": {
    "tags": []
   },
   "outputs": [],
   "source": [
    "b *= 2"
   ]
  },
  {
   "cell_type": "code",
   "execution_count": 14,
   "id": "e1d4580a-eddd-4974-99e9-5a68263aa346",
   "metadata": {
    "tags": []
   },
   "outputs": [
    {
     "data": {
      "text/plain": [
       "4"
      ]
     },
     "execution_count": 14,
     "metadata": {},
     "output_type": "execute_result"
    }
   ],
   "source": [
    "b"
   ]
  },
  {
   "cell_type": "code",
   "execution_count": 15,
   "id": "35ee78b4-01a9-4062-92c1-3f2657423a54",
   "metadata": {
    "tags": []
   },
   "outputs": [],
   "source": [
    "b //= 10"
   ]
  },
  {
   "cell_type": "code",
   "execution_count": 16,
   "id": "b03f4c01-c5d9-46db-8ce2-422575f96169",
   "metadata": {
    "tags": []
   },
   "outputs": [
    {
     "data": {
      "text/plain": [
       "0"
      ]
     },
     "execution_count": 16,
     "metadata": {},
     "output_type": "execute_result"
    }
   ],
   "source": [
    "b"
   ]
  },
  {
   "cell_type": "code",
   "execution_count": 17,
   "id": "abc54bc9-2e43-4020-8e6f-ec3d9d883a81",
   "metadata": {
    "tags": []
   },
   "outputs": [],
   "source": [
    "st = \"This is my python language.\""
   ]
  },
  {
   "cell_type": "code",
   "execution_count": 18,
   "id": "832e3973-7062-4570-8b65-c3e1512e9a4a",
   "metadata": {
    "tags": []
   },
   "outputs": [
    {
     "data": {
      "text/plain": [
       "'T'"
      ]
     },
     "execution_count": 18,
     "metadata": {},
     "output_type": "execute_result"
    }
   ],
   "source": [
    "st[0]"
   ]
  },
  {
   "cell_type": "code",
   "execution_count": 19,
   "id": "e9c3deb4-6977-4def-a67c-4f18163c631f",
   "metadata": {
    "tags": []
   },
   "outputs": [
    {
     "data": {
      "text/plain": [
       "'i'"
      ]
     },
     "execution_count": 19,
     "metadata": {},
     "output_type": "execute_result"
    }
   ],
   "source": [
    "st[5]"
   ]
  },
  {
   "cell_type": "code",
   "execution_count": 20,
   "id": "04457bd1-57fa-4925-97ba-8b66587825be",
   "metadata": {
    "tags": []
   },
   "outputs": [
    {
     "ename": "TypeError",
     "evalue": "'str' object does not support item assignment",
     "output_type": "error",
     "traceback": [
      "\u001b[1;31m---------------------------------------------------------------------------\u001b[0m",
      "\u001b[1;31mTypeError\u001b[0m                                 Traceback (most recent call last)",
      "Cell \u001b[1;32mIn[20], line 1\u001b[0m\n\u001b[1;32m----> 1\u001b[0m st[\u001b[38;5;241m0\u001b[39m] \u001b[38;5;241m=\u001b[39m \u001b[38;5;124m'\u001b[39m\u001b[38;5;124mt\u001b[39m\u001b[38;5;124m'\u001b[39m\n",
      "\u001b[1;31mTypeError\u001b[0m: 'str' object does not support item assignment"
     ]
    }
   ],
   "source": [
    "st[0] = 't'"
   ]
  },
  {
   "cell_type": "code",
   "execution_count": 21,
   "id": "0daa43f1-244f-4a7f-ae9c-7320d9c2edde",
   "metadata": {
    "tags": []
   },
   "outputs": [
    {
     "ename": "TypeError",
     "evalue": "'str' object doesn't support item deletion",
     "output_type": "error",
     "traceback": [
      "\u001b[1;31m---------------------------------------------------------------------------\u001b[0m",
      "\u001b[1;31mTypeError\u001b[0m                                 Traceback (most recent call last)",
      "Cell \u001b[1;32mIn[21], line 1\u001b[0m\n\u001b[1;32m----> 1\u001b[0m \u001b[38;5;28;01mdel\u001b[39;00m st[\u001b[38;5;241m0\u001b[39m]\n",
      "\u001b[1;31mTypeError\u001b[0m: 'str' object doesn't support item deletion"
     ]
    }
   ],
   "source": [
    "del st[0]"
   ]
  },
  {
   "cell_type": "code",
   "execution_count": 22,
   "id": "c76bd9a9-7da2-4049-ad5b-a6ed3d0278e2",
   "metadata": {
    "tags": []
   },
   "outputs": [
    {
     "data": {
      "text/plain": [
       "tuple"
      ]
     },
     "execution_count": 22,
     "metadata": {},
     "output_type": "execute_result"
    }
   ],
   "source": [
    "tu = 23,14,52,65,48\n",
    "type(tu)"
   ]
  },
  {
   "cell_type": "code",
   "execution_count": 23,
   "id": "ed83f373-b4ce-4527-b330-01a554931a26",
   "metadata": {
    "tags": []
   },
   "outputs": [
    {
     "data": {
      "text/plain": [
       "(23, 14, 52, 65, 48)"
      ]
     },
     "execution_count": 23,
     "metadata": {},
     "output_type": "execute_result"
    }
   ],
   "source": [
    "tu"
   ]
  },
  {
   "cell_type": "code",
   "execution_count": 24,
   "id": "fc68c90e-2174-44b6-977e-1a5832179716",
   "metadata": {
    "tags": []
   },
   "outputs": [],
   "source": [
    "tu = 1,2,3,45,6"
   ]
  },
  {
   "cell_type": "code",
   "execution_count": 25,
   "id": "fb01a85b-72dd-4b2d-b7ac-85828a10dd0c",
   "metadata": {
    "tags": []
   },
   "outputs": [
    {
     "data": {
      "text/plain": [
       "(1, 2, 3, 45, 6)"
      ]
     },
     "execution_count": 25,
     "metadata": {},
     "output_type": "execute_result"
    }
   ],
   "source": [
    "tu"
   ]
  },
  {
   "cell_type": "code",
   "execution_count": 26,
   "id": "d422a6d8-2466-4c25-8779-34e587bb921d",
   "metadata": {
    "tags": []
   },
   "outputs": [
    {
     "data": {
      "text/plain": [
       "1"
      ]
     },
     "execution_count": 26,
     "metadata": {},
     "output_type": "execute_result"
    }
   ],
   "source": [
    "tu[0]"
   ]
  },
  {
   "cell_type": "code",
   "execution_count": 29,
   "id": "0e227a4a-0984-4a78-a1f3-8ddfdafddfd3",
   "metadata": {
    "tags": []
   },
   "outputs": [
    {
     "ename": "TypeError",
     "evalue": "'tuple' object does not support item assignment",
     "output_type": "error",
     "traceback": [
      "\u001b[1;31m---------------------------------------------------------------------------\u001b[0m",
      "\u001b[1;31mTypeError\u001b[0m                                 Traceback (most recent call last)",
      "Cell \u001b[1;32mIn[29], line 1\u001b[0m\n\u001b[1;32m----> 1\u001b[0m tu[\u001b[38;5;241m4\u001b[39m] \u001b[38;5;241m=\u001b[39m \u001b[38;5;241m100\u001b[39m\n",
      "\u001b[1;31mTypeError\u001b[0m: 'tuple' object does not support item assignment"
     ]
    }
   ],
   "source": [
    "tu[4] = 100"
   ]
  },
  {
   "cell_type": "code",
   "execution_count": 30,
   "id": "16a4d2bd-8920-4ebb-b10a-d5eb8f679daa",
   "metadata": {
    "tags": []
   },
   "outputs": [],
   "source": [
    "li = [2,3185496,4654,551,1]"
   ]
  },
  {
   "cell_type": "code",
   "execution_count": 31,
   "id": "25c393e4-7b94-4ce7-9663-90a37ffcd39e",
   "metadata": {
    "tags": []
   },
   "outputs": [
    {
     "data": {
      "text/plain": [
       "list"
      ]
     },
     "execution_count": 31,
     "metadata": {},
     "output_type": "execute_result"
    }
   ],
   "source": [
    "type(li)"
   ]
  },
  {
   "cell_type": "code",
   "execution_count": 33,
   "id": "48866c1a-9322-4902-9f1e-ca8ad0f6e7c5",
   "metadata": {
    "tags": []
   },
   "outputs": [],
   "source": [
    "li[1] = 100"
   ]
  },
  {
   "cell_type": "code",
   "execution_count": 34,
   "id": "a98054c8-39a0-4a97-9ae8-1f35c8267bed",
   "metadata": {
    "tags": []
   },
   "outputs": [
    {
     "data": {
      "text/plain": [
       "[2, 100, 4654, 551, 1]"
      ]
     },
     "execution_count": 34,
     "metadata": {},
     "output_type": "execute_result"
    }
   ],
   "source": [
    "li"
   ]
  },
  {
   "cell_type": "code",
   "execution_count": 45,
   "id": "dbe6c715-6aac-432d-b278-3674914e40e8",
   "metadata": {
    "tags": []
   },
   "outputs": [
    {
     "data": {
      "text/plain": [
       "\"set - always keep the property of non-duplicacy\\n - unordered\\n'set' object is not subscriptable\""
      ]
     },
     "execution_count": 45,
     "metadata": {},
     "output_type": "execute_result"
    }
   ],
   "source": [
    "se = {2,325,512,1,1,1,1,1}\n",
    "\n",
    "'''set - always keep the property of non-duplicacy\n",
    " - unordered\n",
    "'set' object is not subscriptable'''"
   ]
  },
  {
   "cell_type": "code",
   "execution_count": 36,
   "id": "ccf91c58-51d0-415a-8a4d-abd3bae65119",
   "metadata": {
    "tags": []
   },
   "outputs": [
    {
     "data": {
      "text/plain": [
       "set"
      ]
     },
     "execution_count": 36,
     "metadata": {},
     "output_type": "execute_result"
    }
   ],
   "source": [
    "type(se)"
   ]
  },
  {
   "cell_type": "code",
   "execution_count": 37,
   "id": "c3cc2f7b-e07b-4c29-9876-c5caae9c65d6",
   "metadata": {
    "tags": []
   },
   "outputs": [
    {
     "data": {
      "text/plain": [
       "{1, 2, 325, 512}"
      ]
     },
     "execution_count": 37,
     "metadata": {},
     "output_type": "execute_result"
    }
   ],
   "source": [
    "se"
   ]
  },
  {
   "cell_type": "code",
   "execution_count": 38,
   "id": "ec62428a-f14b-4304-a0d2-f670ed346096",
   "metadata": {
    "tags": []
   },
   "outputs": [
    {
     "ename": "TypeError",
     "evalue": "'set' object is not subscriptable",
     "output_type": "error",
     "traceback": [
      "\u001b[1;31m---------------------------------------------------------------------------\u001b[0m",
      "\u001b[1;31mTypeError\u001b[0m                                 Traceback (most recent call last)",
      "Cell \u001b[1;32mIn[38], line 1\u001b[0m\n\u001b[1;32m----> 1\u001b[0m se[\u001b[38;5;241m0\u001b[39m]\n",
      "\u001b[1;31mTypeError\u001b[0m: 'set' object is not subscriptable"
     ]
    }
   ],
   "source": [
    "se[0]"
   ]
  },
  {
   "cell_type": "code",
   "execution_count": 42,
   "id": "39273951-9f26-4229-b6a5-d695e50bfa33",
   "metadata": {
    "tags": []
   },
   "outputs": [],
   "source": [
    "# dictionary always contains the unordered and key-value pair data\n",
    "\n",
    "dic = {\"name\":\"amit\",\"roll no\":2,\"grade\":'A',0:56}"
   ]
  },
  {
   "cell_type": "code",
   "execution_count": 40,
   "id": "cefcf908-e91d-4e67-b843-fe6844749749",
   "metadata": {
    "tags": []
   },
   "outputs": [
    {
     "data": {
      "text/plain": [
       "dict"
      ]
     },
     "execution_count": 40,
     "metadata": {},
     "output_type": "execute_result"
    }
   ],
   "source": [
    "type(dic)"
   ]
  },
  {
   "cell_type": "code",
   "execution_count": 43,
   "id": "6276ae49-de31-4309-97c2-d5743a597078",
   "metadata": {
    "tags": []
   },
   "outputs": [
    {
     "data": {
      "text/plain": [
       "56"
      ]
     },
     "execution_count": 43,
     "metadata": {},
     "output_type": "execute_result"
    }
   ],
   "source": [
    "dic[0]"
   ]
  },
  {
   "cell_type": "code",
   "execution_count": 44,
   "id": "3bd57f3a-89d4-4b54-822a-fffdfffbffc3",
   "metadata": {
    "tags": []
   },
   "outputs": [
    {
     "data": {
      "text/plain": [
       "'amit'"
      ]
     },
     "execution_count": 44,
     "metadata": {},
     "output_type": "execute_result"
    }
   ],
   "source": [
    "dic[\"name\"]"
   ]
  },
  {
   "cell_type": "code",
   "execution_count": 47,
   "id": "0269338c-11a3-44d7-a601-1f3121edb014",
   "metadata": {
    "tags": []
   },
   "outputs": [
    {
     "name": "stdout",
     "output_type": "stream",
     "text": [
      "Twinkle, twinkle, little star,\n",
      "How I wonder what you are!\n",
      "Up above the world so high,\n",
      "Like a diamond in the sky.\n",
      "\n",
      "When the blazing sun is gone,\n",
      "When he nothing shines upon,\n",
      "Then you show your little light,\n",
      "Twinkle, twinkle, all the night.\n"
     ]
    }
   ],
   "source": [
    "print(\"\"\"Twinkle, twinkle, little star,\n",
    "How I wonder what you are!\n",
    "Up above the world so high,\n",
    "Like a diamond in the sky.\n",
    "\n",
    "When the blazing sun is gone,\n",
    "When he nothing shines upon,\n",
    "Then you show your little light,\n",
    "Twinkle, twinkle, all the night.\"\"\")"
   ]
  },
  {
   "cell_type": "code",
   "execution_count": null,
   "id": "871ae424-2f13-4e58-801e-b7b946fc3552",
   "metadata": {},
   "outputs": [],
   "source": [
    "# (#)is for single line comment\n",
    "# (''' -- ''')is for multi line comments\n",
    "# (\" --- \")only for single line expression\n",
    "# (\"\"\" --- \"\"\") for multi line expression"
   ]
  }
 ],
 "metadata": {
  "kernelspec": {
   "display_name": "Python 3 (ipykernel)",
   "language": "python",
   "name": "python3"
  },
  "language_info": {
   "codemirror_mode": {
    "name": "ipython",
    "version": 3
   },
   "file_extension": ".py",
   "mimetype": "text/x-python",
   "name": "python",
   "nbconvert_exporter": "python",
   "pygments_lexer": "ipython3",
   "version": "3.11.5"
  }
 },
 "nbformat": 4,
 "nbformat_minor": 5
}
