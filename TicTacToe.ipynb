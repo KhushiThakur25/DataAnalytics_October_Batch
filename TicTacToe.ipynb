{
 "cells": [
  {
   "cell_type": "code",
   "execution_count": 2,
   "id": "df38ad86-238e-4e5f-b590-62925fad2e03",
   "metadata": {
    "tags": []
   },
   "outputs": [
    {
     "name": "stdout",
     "output_type": "stream",
     "text": [
      "\n",
      "      |   |  \n",
      "    ------------\n",
      "      |   |  \n",
      "    ------------\n",
      "      |   |  \n"
     ]
    },
    {
     "name": "stdin",
     "output_type": "stream",
     "text": [
      "Enter your choice X or 0 x\n",
      "Enter the position to move.. 5\n"
     ]
    },
    {
     "name": "stdout",
     "output_type": "stream",
     "text": [
      "\n",
      "      |   |  \n",
      "    ------------\n",
      "      | X |  \n",
      "    ------------\n",
      "      |   |  \n",
      "\n",
      "      |   | 0\n",
      "    ------------\n",
      "      | X |  \n",
      "    ------------\n",
      "      |   |  \n"
     ]
    },
    {
     "name": "stdin",
     "output_type": "stream",
     "text": [
      "Enter the position to move.. 1\n"
     ]
    },
    {
     "name": "stdout",
     "output_type": "stream",
     "text": [
      "\n",
      "    X |   | 0\n",
      "    ------------\n",
      "      | X |  \n",
      "    ------------\n",
      "      |   |  \n",
      "\n",
      "    X |   | 0\n",
      "    ------------\n",
      "    0 | X |  \n",
      "    ------------\n",
      "      |   |  \n"
     ]
    },
    {
     "name": "stdin",
     "output_type": "stream",
     "text": [
      "Enter the position to move.. 9\n"
     ]
    },
    {
     "name": "stdout",
     "output_type": "stream",
     "text": [
      "\n",
      "    X |   | 0\n",
      "    ------------\n",
      "    0 | X |  \n",
      "    ------------\n",
      "      |   | X\n",
      "Congratulations ! X you won match..\n"
     ]
    }
   ],
   "source": [
    "import random\n",
    "\n",
    "positions = [\" \" for i in range(1,10)]\n",
    "occupied = []\n",
    "\n",
    "def user_func(user_choice):\n",
    "    pos = int(input(\"Enter the position to move..\"))\n",
    "    if pos in occupied:\n",
    "        print(\"You can't move this position.., Please select another position..\")\n",
    "        user_func(user_choice)\n",
    "    else:\n",
    "        positions[pos-1] = user_choice\n",
    "        occupied.append(pos)\n",
    "    \n",
    "def cpu_func(cpu_choice):\n",
    "    pos = random.randint(1,9)\n",
    "    if pos in occupied:\n",
    "        cpu_func(cpu_choice)\n",
    "    else:\n",
    "        positions[pos-1] = cpu_choice\n",
    "        occupied.append(pos)\n",
    "def checkWinner():\n",
    "    winning_combinations = [(0,1,2),(3,4,5),(6,7,8),(0,3,6),(1,4,7),(2,5,8),(0,4,8),(2,4,6)]\n",
    "    for combo in winning_combinations:\n",
    "        if positions[combo[0]] == positions[combo[1]] == positions[combo[2]] != \" \":\n",
    "            return positions[combo[0]]\n",
    "    \n",
    "        \n",
    "def gameBoard():\n",
    "    print(\"\"\"\n",
    "    {} | {} | {}\n",
    "    ------------\n",
    "    {} | {} | {}\n",
    "    ------------\n",
    "    {} | {} | {}\"\"\".format(positions[0],positions[1],positions[2],\n",
    "                          positions[3],positions[4],positions[5],\n",
    "                          positions[6],positions[7],positions[8]))\n",
    "\n",
    "def main():\n",
    "    gameBoard()\n",
    "    user_choice = input(\"Enter your choice X or 0\").upper()\n",
    "    if user_choice == \"X\":\n",
    "        cpu_choice = \"0\"\n",
    "    else:\n",
    "        cpu_choice = \"X\"\n",
    "    count = 0\n",
    "    winner = None\n",
    "    while count < 5 and not winner:\n",
    "        count += 1\n",
    "        user_func(user_choice)\n",
    "        gameBoard()\n",
    "        winner = checkWinner()\n",
    "        if winner:\n",
    "            print(f\"Congratulations ! {winner} you won match..\")\n",
    "            break\n",
    "       \n",
    "        cpu_func(cpu_choice)\n",
    "        gameBoard()\n",
    "        winner = checkWinner()\n",
    "        if winner:\n",
    "            print(f\"Congratulations Cpu ! {winner} you won match..\")\n",
    "            break\n",
    "       \n",
    "# print(cpu_choice,user_choice)\n",
    "main()"
   ]
  },
  {
   "cell_type": "code",
   "execution_count": null,
   "id": "e5488b0a-d0e4-4db7-bd67-134cc0193402",
   "metadata": {},
   "outputs": [],
   "source": []
  }
 ],
 "metadata": {
  "kernelspec": {
   "display_name": "Python 3 (ipykernel)",
   "language": "python",
   "name": "python3"
  },
  "language_info": {
   "codemirror_mode": {
    "name": "ipython",
    "version": 3
   },
   "file_extension": ".py",
   "mimetype": "text/x-python",
   "name": "python",
   "nbconvert_exporter": "python",
   "pygments_lexer": "ipython3",
   "version": "3.11.5"
  }
 },
 "nbformat": 4,
 "nbformat_minor": 5
}
